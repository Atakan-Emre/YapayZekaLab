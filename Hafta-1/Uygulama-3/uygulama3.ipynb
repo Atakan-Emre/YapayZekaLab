{
  "cells": [
    {
      "cell_type": "markdown",
      "metadata": {},
      "source": [
        "# Uygulama 3 – Değerlendirme Soruları"
      ]
    },
    {
      "cell_type": "markdown",
      "metadata": {},
      "source": [
        "## 1) Kullanıcıdan Integer Türünde Değer Alıp Çarpım Tablosu\n",
        "**Görev:** Kullanıcıdan bir tam sayı isteyin ve bu sayının 10'a kadar çarpımını (çarpım tablosunu) `for` döngüsü kullanarak ekrana yazdırın.\n",
        "\n",
        "**Örnek**\n",
        "- Girdi: `5`\n",
        "- Çıktı: `5 10 15 20 25 30 35 40 45 50`"
      ]
    },
    {
      "cell_type": "code",
      "execution_count": 1,
      "metadata": {},
      "outputs": [
        {
          "name": "stdout",
          "output_type": "stream",
          "text": [
            "Soru 1: Çarpım Tablosu\n",
            "5 10 15 20 25 30 35 40 45 50 \n",
            "\n"
          ]
        }
      ],
      "source": [
        "# Soru 1\n",
        "print(\"Soru 1: Çarpım Tablosu\")\n",
        "deger = int(input(\"Bir tam sayı giriniz: \"))\n",
        "for i in range(1, 11):\n",
        "    print(deger * i, end=\" \")\n",
        "print(\"\\n\")"
      ]
    },
    {
      "cell_type": "markdown",
      "metadata": {},
      "source": [
        "## 2) Girilen Sayının Kaç Basamaklı Olduğunu Bulma\n",
        "**Görev:** Kullanıcıdan bir sayı alarak, bu sayının kaç basamaklı olduğunu `while` döngüsü kullanarak hesaplayın.\n",
        "\n",
        "**Not:** Sayı negatif girilirse, önce mutlak değerini alıp sonra basamak sayısını hesaplayabilirsiniz."
      ]
    },
    {
      "cell_type": "code",
      "execution_count": 2,
      "metadata": {},
      "outputs": [
        {
          "name": "stdout",
          "output_type": "stream",
          "text": [
            "Soru 2: Sayının kaç basamaklı olduğunu bulma\n",
            "Girdiğiniz sayı 2 basamaklıdır.\n"
          ]
        }
      ],
      "source": [
        "# Soru 2\n",
        "print(\"Soru 2: Sayının kaç basamaklı olduğunu bulma\")\n",
        "sayi = int(input(\"Bir tamsayı giriniz: \"))\n",
        "# Negatif girilme durumunda mutlak değer alalım\n",
        "temp = abs(sayi)\n",
        "\n",
        "basamak_sayisi = 0\n",
        "while temp > 0:\n",
        "    temp = temp // 10  # her seferinde 10'a bölerek basamakları azaltıyoruz\n",
        "    basamak_sayisi += 1\n",
        "\n",
        "# Sıfır için özel durum\n",
        "if sayi == 0:\n",
        "    basamak_sayisi = 1\n",
        "\n",
        "print(f\"Girdiğiniz sayı {basamak_sayisi} basamaklıdır.\")"
      ]
    },
    {
      "cell_type": "markdown",
      "metadata": {},
      "source": [
        "## 3) Bir Listede 5'e Bölünen Sayıları Bulma\n",
        "**Görev:** Aşağıdaki liste içindeki 5'e tam bölünen sayıları 150'ye kadar (150 dahil) yazdıran programı **hem `for` hem de `while`** döngüsü ile gösteriniz.\n",
        "\n",
        "```python\n",
        "sayisalDegerler = [12, 15, 32, 42, 55, 75, 122, 132, 150, 180, 200]\n",
        "```\n",
        "İlgili sayılar: `15, 55, 75, 150` (180 ve 200 gibi 150'den büyük olanlar yok sayılır.)"
      ]
    },
    {
      "cell_type": "code",
      "execution_count": 3,
      "metadata": {},
      "outputs": [
        {
          "name": "stdout",
          "output_type": "stream",
          "text": [
            "Soru 3: 5'e bölünen sayılar (for)\n",
            "15 55 75 150 \n",
            "\n",
            "Soru 3: 5'e bölünen sayılar (while)\n",
            "15 55 75 150 \n",
            "\n"
          ]
        }
      ],
      "source": [
        "# Soru 3 - for döngüsü\n",
        "print(\"Soru 3: 5'e bölünen sayılar (for)\")\n",
        "sayisalDegerler = [12, 15, 32, 42, 55, 75, 122, 132, 150, 180, 200]\n",
        "\n",
        "for deger in sayisalDegerler:\n",
        "    if deger > 150:\n",
        "        # 150'den büyük ise dikkate almayacağız.\n",
        "        break\n",
        "    if deger % 5 == 0:\n",
        "        print(deger, end=\" \")\n",
        "print(\"\\n\")\n",
        "\n",
        "# Soru 3 - while döngüsü\n",
        "print(\"Soru 3: 5'e bölünen sayılar (while)\")\n",
        "i = 0\n",
        "while i < len(sayisalDegerler):\n",
        "    if sayisalDegerler[i] > 150:\n",
        "        break\n",
        "    if sayisalDegerler[i] % 5 == 0:\n",
        "        print(sayisalDegerler[i], end=\" \")\n",
        "    i += 1\n",
        "print(\"\\n\")"
      ]
    },
    {
      "cell_type": "markdown",
      "metadata": {},
      "source": [
        "## 4) a, b ve c Değerine Göre Kaç Sayı Bölünüyor?\n",
        "**Görev:** Kullanıcıdan 3 adet sayı (a, b, c) alın. `[a, b]` kapalı aralığında, c'ye tam bölünen kaç sayı olduğunu bulun.\n",
        "\n",
        "**Örnek**\n",
        "- Girdi: `a = 20, b = 40, c = 5`\n",
        "- Çıktı: `5` (Çünkü: 20, 25, 30, 35, 40 olmak üzere 5 sayı c=5'e bölünür.)"
      ]
    },
    {
      "cell_type": "code",
      "execution_count": 4,
      "metadata": {},
      "outputs": [
        {
          "name": "stdout",
          "output_type": "stream",
          "text": [
            "Soru 4: [a,b] aralığında c'ye bölünen kaç sayı?\n",
            "[ 65, 20 ] aralığında 10'ye bölünebilen 0 sayı vardır.\n"
          ]
        }
      ],
      "source": [
        "# Soru 4\n",
        "print(\"Soru 4: [a,b] aralığında c'ye bölünen kaç sayı?\")\n",
        "a = int(input(\"a değerini giriniz: \"))\n",
        "b = int(input(\"b değerini giriniz: \"))\n",
        "c = int(input(\"c değerini giriniz: \"))\n",
        "\n",
        "count_divisible = 0\n",
        "for num in range(a, b+1):\n",
        "    if num % c == 0:\n",
        "        count_divisible += 1\n",
        "\n",
        "print(f\"[ {a}, {b} ] aralığında {c}'ye bölünebilen {count_divisible} sayı vardır.\")"
      ]
    },
    {
      "cell_type": "markdown",
      "metadata": {},
      "source": [
        "## 5) İstenen Çıktıyı Veren Program\n",
        "```\n",
        "1 - 99\n",
        "2 - 98\n",
        "3 - 97\n",
        "...\n",
        "98 - 2\n",
        "99 - 1\n",
        "```\n",
        "**Görev:** Her satırda soldaki sayı 1'den 99'a, sağdaki sayı 99'dan 1'e gitmelidir."
      ]
    },
    {
      "cell_type": "code",
      "execution_count": 5,
      "metadata": {},
      "outputs": [
        {
          "name": "stdout",
          "output_type": "stream",
          "text": [
            "Soru 5: 1-99 ve 99-1 şeklinde çıktı\n",
            "1 - 99\n",
            "2 - 98\n",
            "3 - 97\n",
            "4 - 96\n",
            "5 - 95\n",
            "6 - 94\n",
            "7 - 93\n",
            "8 - 92\n",
            "9 - 91\n",
            "10 - 90\n",
            "11 - 89\n",
            "12 - 88\n",
            "13 - 87\n",
            "14 - 86\n",
            "15 - 85\n",
            "16 - 84\n",
            "17 - 83\n",
            "18 - 82\n",
            "19 - 81\n",
            "20 - 80\n",
            "21 - 79\n",
            "22 - 78\n",
            "23 - 77\n",
            "24 - 76\n",
            "25 - 75\n",
            "26 - 74\n",
            "27 - 73\n",
            "28 - 72\n",
            "29 - 71\n",
            "30 - 70\n",
            "31 - 69\n",
            "32 - 68\n",
            "33 - 67\n",
            "34 - 66\n",
            "35 - 65\n",
            "36 - 64\n",
            "37 - 63\n",
            "38 - 62\n",
            "39 - 61\n",
            "40 - 60\n",
            "41 - 59\n",
            "42 - 58\n",
            "43 - 57\n",
            "44 - 56\n",
            "45 - 55\n",
            "46 - 54\n",
            "47 - 53\n",
            "48 - 52\n",
            "49 - 51\n",
            "50 - 50\n",
            "51 - 49\n",
            "52 - 48\n",
            "53 - 47\n",
            "54 - 46\n",
            "55 - 45\n",
            "56 - 44\n",
            "57 - 43\n",
            "58 - 42\n",
            "59 - 41\n",
            "60 - 40\n",
            "61 - 39\n",
            "62 - 38\n",
            "63 - 37\n",
            "64 - 36\n",
            "65 - 35\n",
            "66 - 34\n",
            "67 - 33\n",
            "68 - 32\n",
            "69 - 31\n",
            "70 - 30\n",
            "71 - 29\n",
            "72 - 28\n",
            "73 - 27\n",
            "74 - 26\n",
            "75 - 25\n",
            "76 - 24\n",
            "77 - 23\n",
            "78 - 22\n",
            "79 - 21\n",
            "80 - 20\n",
            "81 - 19\n",
            "82 - 18\n",
            "83 - 17\n",
            "84 - 16\n",
            "85 - 15\n",
            "86 - 14\n",
            "87 - 13\n",
            "88 - 12\n",
            "89 - 11\n",
            "90 - 10\n",
            "91 - 9\n",
            "92 - 8\n",
            "93 - 7\n",
            "94 - 6\n",
            "95 - 5\n",
            "96 - 4\n",
            "97 - 3\n",
            "98 - 2\n",
            "99 - 1\n"
          ]
        }
      ],
      "source": [
        "# Soru 5\n",
        "print(\"Soru 5: 1-99 ve 99-1 şeklinde çıktı\")\n",
        "for i in range(1, 100):\n",
        "    print(f\"{i} - {100 - i}\")"
      ]
    },
    {
      "cell_type": "markdown",
      "metadata": {},
      "source": [
        "## 6) IP Adresi Sonraki 5 Değeri Yazdır\n",
        "**Görev:** Kullanıcıdan bir IP adresi alınız (4 oktet halinde). Bu IP adresini 1'er 1'er artırarak sonraki **5** değeri ekrana yazdırın. 255 sınırını aşınca bir sonraki okteti artırmayı unutmayın.\n",
        "\n",
        "**Örnek**\n",
        "- Girdi: `192 168 255 252`\n",
        "- Çıktı:\n",
        "```\n",
        "192 168 255 253\n",
        "192 168 255 254\n",
        "192 168 255 255\n",
        "192 169   0   0\n",
        "192 169   0   1\n",
        "```\n",
        "Burada 255'i aşan oktet bir üst okteti 1 artırır, o da 255'i aşarsa bir üst okteti 1 artırır... şeklinde devam eder."
      ]
    },
    {
      "cell_type": "code",
      "execution_count": 6,
      "metadata": {},
      "outputs": [
        {
          "name": "stdout",
          "output_type": "stream",
          "text": [
            "Soru 6: IP adresi artışı\n",
            "Lütfen 4 sayı giriniz (ör: 192 168 255 252)\n",
            "192168255253 5 2 3\n",
            "192168255253 5 2 4\n",
            "192168255253 5 2 5\n",
            "192168255253 5 2 6\n",
            "192168255253 5 2 7\n"
          ]
        }
      ],
      "source": [
        "# Soru 6\n",
        "print(\"Soru 6: IP adresi artışı\")\n",
        "# 4 oktet halinde IP alalım\n",
        "print(\"Lütfen 4 sayı giriniz (ör: 192 168 255 252)\")\n",
        "o1 = int(input(\"1. oktet: \"))\n",
        "o2 = int(input(\"2. oktet: \"))\n",
        "o3 = int(input(\"3. oktet: \"))\n",
        "o4 = int(input(\"4. oktet: \"))\n",
        "\n",
        "# 5 kere increment edelim ve sonucu basalım.\n",
        "for _ in range(5):\n",
        "    # önce son okteti 1 artır\n",
        "    o4 += 1\n",
        "    # eğer 256'ya ulaştıysak, 0 yap ve bir üst okteti artır\n",
        "    if o4 == 256:\n",
        "        o4 = 0\n",
        "        o3 += 1\n",
        "        if o3 == 256:\n",
        "            o3 = 0\n",
        "            o2 += 1\n",
        "            if o2 == 256:\n",
        "                o2 = 0\n",
        "                o1 += 1\n",
        "                if o1 == 256:\n",
        "                    # 256 da geçerli IP değil ama örnek kabul, programda\n",
        "                    # duruma göre biter veya yine döngüye devam\n",
        "                    o1 = 0\n",
        "\n",
        "    print(o1, o2, o3, o4)"
      ]
    }
  ],
  "metadata": {
    "kernelspec": {
      "display_name": "Python 3",
      "language": "python",
      "name": "python3"
    },
    "language_info": {
      "codemirror_mode": {
        "name": "ipython",
        "version": 3
      },
      "file_extension": ".py",
      "mimetype": "text/x-python",
      "name": "python",
      "nbconvert_exporter": "python",
      "pygments_lexer": "ipython3",
      "version": "3.11.9"
    }
  },
  "nbformat": 4,
  "nbformat_minor": 5
}
