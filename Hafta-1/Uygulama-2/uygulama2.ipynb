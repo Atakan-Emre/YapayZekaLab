{
  "cells": [
    {
      "cell_type": "markdown",
      "metadata": {},
      "source": [
        "# Uygulama 2 – Değerlendirme Soruları\n",
        "\n",
        "Aşağıda her bir sorunun çözümü adım adım açıklanmıştır."
      ]
    },
    {
      "cell_type": "markdown",
      "metadata": {},
      "source": [
        "## Soru 1\n",
        "Kullanıcıdan 3 adet **Integer** türünde değer alınız. Bu değerler bir üçgenin açılarını ifade edecektir. Açı değerlerine göre üçgenin **dik**, **geniş** ya da **dar** üçgen olup olmadığını belirleyen programı yazınız.\n",
        "\n",
        "**Çözüm Yaklaşımı**\n",
        "- Toplamları 180 ise üçgen geçerlidir.\n",
        "- Eğer girilen açılardan biri **90** ise üçgen `dik` üçgendir.\n",
        "- Eğer açılardan biri **90'dan büyük** ise üçgen `geniş açılı` üçgendir.\n",
        "- Eğer tüm açıları **90'dan küçük** ise üçgen `dar açılı` üçgendir.\n",
        "- Toplam 180 değilse geçerli bir üçgen oluşmaz."
      ]
    },
    {
      "cell_type": "code",
      "execution_count": 1,
      "metadata": {},
      "outputs": [
        {
          "name": "stdout",
          "output_type": "stream",
          "text": [
            "Soru 1: Üçgenin türünü belirleme\n",
            "Dik üçgen\n"
          ]
        }
      ],
      "source": [
        "# Soru 1\n",
        "print(\"Soru 1: Üçgenin türünü belirleme\")\n",
        "\n",
        "a = int(input(\"Birinci açıyı girin: \"))\n",
        "b = int(input(\"İkinci açıyı girin: \"))\n",
        "c = int(input(\"Üçüncü açıyı girin: \"))\n",
        "\n",
        "if a + b + c == 180:\n",
        "    if a == 90 or b == 90 or c == 90:\n",
        "        print(\"Dik üçgen\")\n",
        "    elif a > 90 or b > 90 or c > 90:\n",
        "        print(\"Geniş açılı üçgen\")\n",
        "    else:\n",
        "        print(\"Dar açılı üçgen\")\n",
        "else:\n",
        "    print(\"Girilen değerler geçerli bir üçgen oluşturmuyor!\")"
      ]
    },
    {
      "cell_type": "markdown",
      "metadata": {},
      "source": [
        "## Soru 2\n",
        "İçinde uzaylı olan bir oyun senaryosu düşünün. `uzayli_rengi` isminde bir değişken oluşturun ve bu değişken `kırmızı`, `yeşil` ya da `sarı` değerlerinden birini alsın. Eğer uzaylının rengi **yeşil** ise\n",
        "> \"Tebrikler, yeşil uzaylıya ateş ettiğiniz için 5 puan kazandınız\"\n",
        "şeklinde; aksi takdirde\n",
        "> \"Tebrikler, yeşil olmayan uzaylıya ateş ettiğiniz için 10 puan kazandınız\"\n",
        "şeklinde çıktı veriniz."
      ]
    },
    {
      "cell_type": "code",
      "execution_count": 2,
      "metadata": {},
      "outputs": [
        {
          "name": "stdout",
          "output_type": "stream",
          "text": [
            "\n",
            "Soru 2: Uzaylı rengi senaryosu\n",
            "Tebrikler, yeşil uzaylıya ateş ettiğiniz için 5 puan kazandınız\n"
          ]
        }
      ],
      "source": [
        "# Soru 2\n",
        "print(\"\\nSoru 2: Uzaylı rengi senaryosu\")\n",
        "uzayli_rengi = input(\"Lütfen uzaylının rengini girin (kırmızı/yeşil/sarı): \")\n",
        "\n",
        "if uzayli_rengi.lower() == \"yeşil\":\n",
        "    print(\"Tebrikler, yeşil uzaylıya ateş ettiğiniz için 5 puan kazandınız\")\n",
        "else:\n",
        "    print(\"Tebrikler, yeşil olmayan uzaylıya ateş ettiğiniz için 10 puan kazandınız\")"
      ]
    },
    {
      "cell_type": "markdown",
      "metadata": {},
      "source": [
        "## Soru 3\n",
        "Bir önceki sorudaki uzaylı rengi örneğine dayanarak `if-elif-else` yapılarıyla:\n",
        "1. Uzaylının rengi **yeşil** ise: \n",
        "   > \"Tebrikler, yeşil uzaylıya ateş ettiğiniz için 5 puan kazandınız\"\n",
        "2. Uzaylının rengi **sarı** ise: \n",
        "   > \"Tebrikler, sarı uzaylıya ateş ettiğiniz için 10 puan kazandınız\"\n",
        "3. Uzaylının rengi **kırmızı** ise:\n",
        "   > \"Tebrikler, kırmızı uzaylıya ateş ettiğiniz için 15 puan kazandınız\"\n",
        "\n",
        "şeklinde çıktı verecek programı yazınız."
      ]
    },
    {
      "cell_type": "code",
      "execution_count": 3,
      "metadata": {},
      "outputs": [
        {
          "name": "stdout",
          "output_type": "stream",
          "text": [
            "\n",
            "Soru 3: If-elif-else ile uzaylı rengi skorlama\n",
            "Tebrikler, sarı uzaylıya ateş ettiğiniz için 10 puan kazandınız\n"
          ]
        }
      ],
      "source": [
        "# Soru 3\n",
        "print(\"\\nSoru 3: If-elif-else ile uzaylı rengi skorlama\")\n",
        "rengi = input(\"Uzaylının rengini girin (yeşil/sarı/kırmızı): \")\n",
        "\n",
        "if rengi.lower() == \"yeşil\":\n",
        "    print(\"Tebrikler, yeşil uzaylıya ateş ettiğiniz için 5 puan kazandınız\")\n",
        "elif rengi.lower() == \"sarı\":\n",
        "    print(\"Tebrikler, sarı uzaylıya ateş ettiğiniz için 10 puan kazandınız\")\n",
        "elif rengi.lower() == \"kırmızı\":\n",
        "    print(\"Tebrikler, kırmızı uzaylıya ateş ettiğiniz için 15 puan kazandınız\")\n",
        "else:\n",
        "    print(\"Bilinmeyen bir renk girdiniz. Puan alamadınız.\")"
      ]
    },
    {
      "cell_type": "markdown",
      "metadata": {},
      "source": [
        "## Soru 4\n",
        "`if-elif-else` yapılarını kullanarak bir insanın yaşam evreleri ile ilgili program oluşturunuz. Bir **int** türünde `yas` isimli değişken olsun. Kullanıcıdan bu değeri isteyin. Aşağıdaki aralıklara göre çıktı verin:\n",
        "\n",
        "- Yaş < 2: `Bu kişi bebektir.`\n",
        "- 2 ≤ Yaş ≤ 4: `Bu kişi yeni yürümeye başlayan çocuktur.`\n",
        "- 5 ≤ Yaş ≤ 13: `Bu kişi çocuktur.`\n",
        "- 14 ≤ Yaş ≤ 19: `Bu kişi ergendir.`\n",
        "- 20 ≤ Yaş ≤ 35: `Bu kişi yetişkindir.`\n",
        "- 36 ≤ Yaş ≤ 60: `Bu kişi orta yaştadır.`\n",
        "- 61 ve üzeri: `Bu kişi yaşlıdır.`"
      ]
    },
    {
      "cell_type": "code",
      "execution_count": 4,
      "metadata": {},
      "outputs": [
        {
          "name": "stdout",
          "output_type": "stream",
          "text": [
            "\n",
            "Soru 4: Yaşam evreleri\n",
            "Bu kişi yetişkindir.\n"
          ]
        }
      ],
      "source": [
        "# Soru 4\n",
        "print(\"\\nSoru 4: Yaşam evreleri\")\n",
        "yas = int(input(\"Yaşınızı giriniz: \"))\n",
        "\n",
        "if yas < 2:\n",
        "    print(\"Bu kişi bebektir.\")\n",
        "elif 2 <= yas <= 4:\n",
        "    print(\"Bu kişi yeni yürümeye başlayan çocuktur.\")\n",
        "elif 5 <= yas <= 13:\n",
        "    print(\"Bu kişi çocuktur.\")\n",
        "elif 14 <= yas <= 19:\n",
        "    print(\"Bu kişi ergendir.\")\n",
        "elif 20 <= yas <= 35:\n",
        "    print(\"Bu kişi yetişkindir.\")\n",
        "elif 36 <= yas <= 60:\n",
        "    print(\"Bu kişi orta yaştadır.\")\n",
        "else:\n",
        "    print(\"Bu kişi yaşlıdır.\")"
      ]
    },
    {
      "cell_type": "markdown",
      "metadata": {},
      "source": [
        "## Soru 5\n",
        "Bir listenin içinde **5 adet meyve** olsun. Listenin adı `favori_meyveler` şeklinde tanımlansın. `if-else` yapısını kullanarak, örnek meyvelerden birini kullanıcıdan alın ve girilen meyve **listede var mı** diye kontrol edin. Varsa “Bu meyve favorilerimde var” yoksa “Bu meyve favorilerimde yok” diye çıktı versin.\n",
        "\n",
        "**Örnek meyveler**: `elma, armut, karpuz, kavun, muz, portakal, çilek, vişne, kiraz, mandalina`"
      ]
    },
    {
      "cell_type": "code",
      "execution_count": 5,
      "metadata": {},
      "outputs": [
        {
          "name": "stdout",
          "output_type": "stream",
          "text": [
            "\n",
            "Soru 5: Favori meyveler listesi\n",
            "Bu meyve favorilerimde var.\n"
          ]
        }
      ],
      "source": [
        "# Soru 5\n",
        "print(\"\\nSoru 5: Favori meyveler listesi\")\n",
        "favori_meyveler = [\"elma\", \"armut\", \"muz\", \"karpuz\", \"kiraz\"]  # Örnek olarak 5 meyve\n",
        "meyve = input(\"Bir meyve adı giriniz: \")\n",
        "\n",
        "if meyve.lower() in favori_meyveler:\n",
        "    print(\"Bu meyve favorilerimde var.\")\n",
        "else:\n",
        "    print(\"Bu meyve favorilerimde yok.\")"
      ]
    }
  ],
  "metadata": {
    "kernelspec": {
      "display_name": "Python 3",
      "language": "python",
      "name": "python3"
    },
    "language_info": {
      "codemirror_mode": {
        "name": "ipython",
        "version": 3
      },
      "file_extension": ".py",
      "mimetype": "text/x-python",
      "name": "python",
      "nbconvert_exporter": "python",
      "pygments_lexer": "ipython3",
      "version": "3.11.9"
    }
  },
  "nbformat": 4,
  "nbformat_minor": 5
}
