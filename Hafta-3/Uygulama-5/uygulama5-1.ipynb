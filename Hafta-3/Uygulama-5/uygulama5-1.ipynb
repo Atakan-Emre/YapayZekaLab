{
  "cells": [
    {
      "cell_type": "markdown",
      "metadata": {},
      "source": [
        "# Mall Customers – SOM ile Kümeleme\n",
        "Bu not defteri, Kaggle'daki [Mall Customers](https://www.kaggle.com/shwetabh123/mall-customers) veri setini kullanarak, **SimpSOM** kütüphanesiyle bir **Kendini Düzenleyen Harita (SOM)** oluşturur ve ardından **K-Means** ile kümeler.\n",
        "\n",
        "## Adımlar\n",
        "1. Kütüphanelerin yüklenmesi\n",
        "2. Veri setinin okunması ve ön işleme\n",
        "3. SOM ağının oluşturulması ve eğitimi\n",
        "4. 2D projeksiyon ve K-Means ile kümeleme\n",
        "5. Sonuçların yorumlanması\n",
        "\n",
        "> Not: Aşağıdaki kod, **eski** SimpSOM sürümüne göredir (`pip install SimpSOM`). Eğer **yeni** sürümü (GitHub) kurduysanız, `somNet()` yerine `spsom.somNet(...)` değişiklikleri gerekebilir."
      ]
    },
    {
      "cell_type": "code",
      "execution_count": 11,
      "metadata": {},
      "outputs": [
        {
          "name": "stdout",
          "output_type": "stream",
          "text": [
            "Kütüphaneler yüklendi.\n"
          ]
        }
      ],
      "source": [
        "# 1) Kütüphanelerin Yüklenmesi\n",
        "# !pip install SimpSOM\n",
        "# !pip install pandas numpy scikit-learn\n",
        "\n",
        "import pandas as pd\n",
        "import simpsom as sps\n",
        "from sklearn.cluster import KMeans\n",
        "import numpy as np\n",
        "\n",
        "print(\"Kütüphaneler yüklendi.\")"
      ]
    },
    {
      "cell_type": "markdown",
      "metadata": {},
      "source": [
        "## 2) Veri Setinin Okunması ve Ön İşlemler\n",
        "[Kaggle sayfasından](https://www.kaggle.com/shwetabh123/mall-customers) indirdiğiniz `Mall_Customers.csv` dosyasını bu `.ipynb` ile aynı dizinde tutun.\n",
        "\n",
        "Veri setinde tipik olarak şu sütunlar bulunur:\n",
        "- **CustomerID**\n",
        "- **Gender**\n",
        "- **Age**\n",
        "- **Annual Income (k$)**\n",
        "- **Spending Score (1-100)**\n",
        "\n",
        "Bu örnekte sadece **Age**, **Annual Income**, ve **Spending Score** sütunlarını modele dahil edeceğiz."
      ]
    },
    {
      "cell_type": "code",
      "execution_count": 12,
      "metadata": {},
      "outputs": [
        {
          "name": "stdout",
          "output_type": "stream",
          "text": [
            "Veri seti boyutu: (200, 5)\n"
          ]
        },
        {
          "data": {
            "text/html": [
              "<div>\n",
              "<style scoped>\n",
              "    .dataframe tbody tr th:only-of-type {\n",
              "        vertical-align: middle;\n",
              "    }\n",
              "\n",
              "    .dataframe tbody tr th {\n",
              "        vertical-align: top;\n",
              "    }\n",
              "\n",
              "    .dataframe thead th {\n",
              "        text-align: right;\n",
              "    }\n",
              "</style>\n",
              "<table border=\"1\" class=\"dataframe\">\n",
              "  <thead>\n",
              "    <tr style=\"text-align: right;\">\n",
              "      <th></th>\n",
              "      <th>CustomerID</th>\n",
              "      <th>Genre</th>\n",
              "      <th>Age</th>\n",
              "      <th>Annual Income (k$)</th>\n",
              "      <th>Spending Score (1-100)</th>\n",
              "    </tr>\n",
              "  </thead>\n",
              "  <tbody>\n",
              "    <tr>\n",
              "      <th>0</th>\n",
              "      <td>1</td>\n",
              "      <td>Male</td>\n",
              "      <td>19</td>\n",
              "      <td>15</td>\n",
              "      <td>39</td>\n",
              "    </tr>\n",
              "    <tr>\n",
              "      <th>1</th>\n",
              "      <td>2</td>\n",
              "      <td>Male</td>\n",
              "      <td>21</td>\n",
              "      <td>15</td>\n",
              "      <td>81</td>\n",
              "    </tr>\n",
              "    <tr>\n",
              "      <th>2</th>\n",
              "      <td>3</td>\n",
              "      <td>Female</td>\n",
              "      <td>20</td>\n",
              "      <td>16</td>\n",
              "      <td>6</td>\n",
              "    </tr>\n",
              "    <tr>\n",
              "      <th>3</th>\n",
              "      <td>4</td>\n",
              "      <td>Female</td>\n",
              "      <td>23</td>\n",
              "      <td>16</td>\n",
              "      <td>77</td>\n",
              "    </tr>\n",
              "    <tr>\n",
              "      <th>4</th>\n",
              "      <td>5</td>\n",
              "      <td>Female</td>\n",
              "      <td>31</td>\n",
              "      <td>17</td>\n",
              "      <td>40</td>\n",
              "    </tr>\n",
              "  </tbody>\n",
              "</table>\n",
              "</div>"
            ],
            "text/plain": [
              "   CustomerID   Genre  Age  Annual Income (k$)  Spending Score (1-100)\n",
              "0           1    Male   19                  15                      39\n",
              "1           2    Male   21                  15                      81\n",
              "2           3  Female   20                  16                       6\n",
              "3           4  Female   23                  16                      77\n",
              "4           5  Female   31                  17                      40"
            ]
          },
          "execution_count": 12,
          "metadata": {},
          "output_type": "execute_result"
        }
      ],
      "source": [
        "df = pd.read_csv(\"Mall_Customers.csv\")  # Aynı klasörde olduğunu varsayıyoruz\n",
        "print(\"Veri seti boyutu:\", df.shape)\n",
        "df.head()"
      ]
    },
    {
      "cell_type": "markdown",
      "metadata": {},
      "source": [
        "### Gerekli Sütunların Seçilmesi\n",
        "Sadece sayısal sütunları alacağız. `Gender` metinsel olduğu için, isterseniz **LabelEncoder** veya **One-Hot** ile dönüştürebilirsiniz. Bu örnekte basitlik adına onu çıkartıyoruz."
      ]
    },
    {
      "cell_type": "code",
      "execution_count": 13,
      "metadata": {},
      "outputs": [
        {
          "name": "stdout",
          "output_type": "stream",
          "text": [
            "Seçilen sütunlar: ['Age', 'Annual Income (k$)', 'Spending Score (1-100)']\n"
          ]
        },
        {
          "data": {
            "text/html": [
              "<div>\n",
              "<style scoped>\n",
              "    .dataframe tbody tr th:only-of-type {\n",
              "        vertical-align: middle;\n",
              "    }\n",
              "\n",
              "    .dataframe tbody tr th {\n",
              "        vertical-align: top;\n",
              "    }\n",
              "\n",
              "    .dataframe thead th {\n",
              "        text-align: right;\n",
              "    }\n",
              "</style>\n",
              "<table border=\"1\" class=\"dataframe\">\n",
              "  <thead>\n",
              "    <tr style=\"text-align: right;\">\n",
              "      <th></th>\n",
              "      <th>Age</th>\n",
              "      <th>Annual Income (k$)</th>\n",
              "      <th>Spending Score (1-100)</th>\n",
              "    </tr>\n",
              "  </thead>\n",
              "  <tbody>\n",
              "    <tr>\n",
              "      <th>0</th>\n",
              "      <td>19</td>\n",
              "      <td>15</td>\n",
              "      <td>39</td>\n",
              "    </tr>\n",
              "    <tr>\n",
              "      <th>1</th>\n",
              "      <td>21</td>\n",
              "      <td>15</td>\n",
              "      <td>81</td>\n",
              "    </tr>\n",
              "    <tr>\n",
              "      <th>2</th>\n",
              "      <td>20</td>\n",
              "      <td>16</td>\n",
              "      <td>6</td>\n",
              "    </tr>\n",
              "    <tr>\n",
              "      <th>3</th>\n",
              "      <td>23</td>\n",
              "      <td>16</td>\n",
              "      <td>77</td>\n",
              "    </tr>\n",
              "    <tr>\n",
              "      <th>4</th>\n",
              "      <td>31</td>\n",
              "      <td>17</td>\n",
              "      <td>40</td>\n",
              "    </tr>\n",
              "  </tbody>\n",
              "</table>\n",
              "</div>"
            ],
            "text/plain": [
              "   Age  Annual Income (k$)  Spending Score (1-100)\n",
              "0   19                  15                      39\n",
              "1   21                  15                      81\n",
              "2   20                  16                       6\n",
              "3   23                  16                      77\n",
              "4   31                  17                      40"
            ]
          },
          "execution_count": 13,
          "metadata": {},
          "output_type": "execute_result"
        }
      ],
      "source": [
        "# Gerekli sütunları alalım\n",
        "X = df[[\"Age\", \"Annual Income (k$)\", \"Spending Score (1-100)\"]].copy()\n",
        "print(\"Seçilen sütunlar:\", X.columns.tolist())\n",
        "X.head()"
      ]
    },
    {
      "cell_type": "markdown",
      "metadata": {},
      "source": [
        "## 3) SOM Ağının Oluşturulması ve Eğitimi\n",
        "Burada 20×20 boyutunda bir harita oluşturuyor ve veriyi **X.values** (NumPy) olarak veriyoruz.\n",
        "\n",
        "> `net.train(0.01, 10000)` çağrısında ilk parametre öğrenme katsayısı, ikinci parametre epok sayısıdır. 10.000 epok, veri seti küçük olduğu için uzun sürebilir; isterseniz düşürebilirsiniz (ör. 1.000)."
      ]
    },
    {
      "cell_type": "code",
      "execution_count": 16,
      "metadata": {},
      "outputs": [
        {
          "name": "stdout",
          "output_type": "stream",
          "text": [
            "Periodic Boundary Conditions active.\n",
            "The weights will be initialized with PCA.\n",
            "SOM ağı oluşturuldu.\n",
            "The map will be trained with the batch algorithm.\n",
            "Training SOM... done!\n",
            "SOM eğitimi tamamlandı.\n"
          ]
        }
      ],
      "source": [
        "net = sps.SOMNet(\n",
        "    20,  # en\n",
        "    20,  # boy\n",
        "    X.values,  # NumPy array\n",
        "    PBC=True   # Periyodik sınır koşulları\n",
        ")\n",
        "\n",
        "print(\"SOM ağı oluşturuldu.\")\n",
        "\n",
        "# Ağı eğitelim (2000 epok, öğrenme katsayısı 0.01)\n",
        "net.train(train_algo='batch', epochs=2000, start_learning_rate=0.01)\n",
        "print(\"SOM eğitimi tamamlandı.\")"
      ]
    },
    {
      "cell_type": "markdown",
      "metadata": {},
      "source": [
        "## 4) 2D Projeksiyon ve K-Means ile 3 Kümeye Ayırma\n",
        "SOM ile eğitilen verileri 2 boyutlu bir haritaya yansıtıp, `KMeans` (örneğin 3 kümeli) ile sınıflandıracağız.\n",
        "\n",
        "> `net.project(X.values)` -> her satıra 2 boyutlu bir koordinat veriyor. Bunu NumPy dizisine çevirip `kmeans.fit_predict()` ile etiketleri alabiliriz."
      ]
    },
    {
      "cell_type": "code",
      "execution_count": 17,
      "metadata": {},
      "outputs": [
        {
          "name": "stdout",
          "output_type": "stream",
          "text": [
            "Küme etiketleri: [2 2 2 2 2 2 2 2 2 2 2 2 2 2 2 2 2 2 2 2] ...\n",
            "Toplam örnek sayısı: 200\n"
          ]
        },
        {
          "name": "stderr",
          "output_type": "stream",
          "text": [
            "/Users/atakanemre/.pyenv/versions/3.11.0/lib/python3.11/site-packages/simpsom/network.py:629: UserWarning: No data for colormapping provided via 'c'. Parameters 'cmap' will be ignored\n",
            "  plt.scatter([pos[0]-0.125+random.random()*0.25 for pos in bmu_list],\n"
          ]
        },
        {
          "data": {
            "text/plain": [
              "<Figure size 640x480 with 0 Axes>"
            ]
          },
          "metadata": {},
          "output_type": "display_data"
        }
      ],
      "source": [
        "coords = np.array(net.project(X.values))  # 2 boyutlu koordinatlar\n",
        "kmeans = KMeans(n_clusters=3, random_state=0)\n",
        "labels = kmeans.fit_predict(coords)\n",
        "\n",
        "print(\"Küme etiketleri:\", labels[:20], \"...\")\n",
        "print(\"Toplam örnek sayısı:\", len(labels))"
      ]
    },
    {
      "cell_type": "markdown",
      "metadata": {},
      "source": [
        "## 5) Sonuçların Yorumlanması\n",
        "Artık her müşteriye (satıra) bir küme etiketi ekleyerek, hangi müşterilerin birlikte gruplandığına bakabilirsiniz. Aşağıdaki gibi DataFrame'e ekleyebiliriz."
      ]
    },
    {
      "cell_type": "code",
      "execution_count": 18,
      "metadata": {},
      "outputs": [
        {
          "data": {
            "text/html": [
              "<div>\n",
              "<style scoped>\n",
              "    .dataframe tbody tr th:only-of-type {\n",
              "        vertical-align: middle;\n",
              "    }\n",
              "\n",
              "    .dataframe tbody tr th {\n",
              "        vertical-align: top;\n",
              "    }\n",
              "\n",
              "    .dataframe thead th {\n",
              "        text-align: right;\n",
              "    }\n",
              "</style>\n",
              "<table border=\"1\" class=\"dataframe\">\n",
              "  <thead>\n",
              "    <tr style=\"text-align: right;\">\n",
              "      <th></th>\n",
              "      <th>CustomerID</th>\n",
              "      <th>Genre</th>\n",
              "      <th>Age</th>\n",
              "      <th>Annual Income (k$)</th>\n",
              "      <th>Spending Score (1-100)</th>\n",
              "      <th>Cluster</th>\n",
              "    </tr>\n",
              "  </thead>\n",
              "  <tbody>\n",
              "    <tr>\n",
              "      <th>0</th>\n",
              "      <td>1</td>\n",
              "      <td>Male</td>\n",
              "      <td>19</td>\n",
              "      <td>15</td>\n",
              "      <td>39</td>\n",
              "      <td>2</td>\n",
              "    </tr>\n",
              "    <tr>\n",
              "      <th>1</th>\n",
              "      <td>2</td>\n",
              "      <td>Male</td>\n",
              "      <td>21</td>\n",
              "      <td>15</td>\n",
              "      <td>81</td>\n",
              "      <td>2</td>\n",
              "    </tr>\n",
              "    <tr>\n",
              "      <th>2</th>\n",
              "      <td>3</td>\n",
              "      <td>Female</td>\n",
              "      <td>20</td>\n",
              "      <td>16</td>\n",
              "      <td>6</td>\n",
              "      <td>2</td>\n",
              "    </tr>\n",
              "    <tr>\n",
              "      <th>3</th>\n",
              "      <td>4</td>\n",
              "      <td>Female</td>\n",
              "      <td>23</td>\n",
              "      <td>16</td>\n",
              "      <td>77</td>\n",
              "      <td>2</td>\n",
              "    </tr>\n",
              "    <tr>\n",
              "      <th>4</th>\n",
              "      <td>5</td>\n",
              "      <td>Female</td>\n",
              "      <td>31</td>\n",
              "      <td>17</td>\n",
              "      <td>40</td>\n",
              "      <td>2</td>\n",
              "    </tr>\n",
              "    <tr>\n",
              "      <th>5</th>\n",
              "      <td>6</td>\n",
              "      <td>Female</td>\n",
              "      <td>22</td>\n",
              "      <td>17</td>\n",
              "      <td>76</td>\n",
              "      <td>2</td>\n",
              "    </tr>\n",
              "    <tr>\n",
              "      <th>6</th>\n",
              "      <td>7</td>\n",
              "      <td>Female</td>\n",
              "      <td>35</td>\n",
              "      <td>18</td>\n",
              "      <td>6</td>\n",
              "      <td>2</td>\n",
              "    </tr>\n",
              "    <tr>\n",
              "      <th>7</th>\n",
              "      <td>8</td>\n",
              "      <td>Female</td>\n",
              "      <td>23</td>\n",
              "      <td>18</td>\n",
              "      <td>94</td>\n",
              "      <td>2</td>\n",
              "    </tr>\n",
              "    <tr>\n",
              "      <th>8</th>\n",
              "      <td>9</td>\n",
              "      <td>Male</td>\n",
              "      <td>64</td>\n",
              "      <td>19</td>\n",
              "      <td>3</td>\n",
              "      <td>2</td>\n",
              "    </tr>\n",
              "    <tr>\n",
              "      <th>9</th>\n",
              "      <td>10</td>\n",
              "      <td>Female</td>\n",
              "      <td>30</td>\n",
              "      <td>19</td>\n",
              "      <td>72</td>\n",
              "      <td>2</td>\n",
              "    </tr>\n",
              "  </tbody>\n",
              "</table>\n",
              "</div>"
            ],
            "text/plain": [
              "   CustomerID   Genre  Age  Annual Income (k$)  Spending Score (1-100)  \\\n",
              "0           1    Male   19                  15                      39   \n",
              "1           2    Male   21                  15                      81   \n",
              "2           3  Female   20                  16                       6   \n",
              "3           4  Female   23                  16                      77   \n",
              "4           5  Female   31                  17                      40   \n",
              "5           6  Female   22                  17                      76   \n",
              "6           7  Female   35                  18                       6   \n",
              "7           8  Female   23                  18                      94   \n",
              "8           9    Male   64                  19                       3   \n",
              "9          10  Female   30                  19                      72   \n",
              "\n",
              "   Cluster  \n",
              "0        2  \n",
              "1        2  \n",
              "2        2  \n",
              "3        2  \n",
              "4        2  \n",
              "5        2  \n",
              "6        2  \n",
              "7        2  \n",
              "8        2  \n",
              "9        2  "
            ]
          },
          "execution_count": 18,
          "metadata": {},
          "output_type": "execute_result"
        }
      ],
      "source": [
        "df['Cluster'] = labels\n",
        "df.head(10)"
      ]
    },
    {
      "cell_type": "code",
      "execution_count": 19,
      "id": "692a0b62",
      "metadata": {},
      "outputs": [
        {
          "name": "stderr",
          "output_type": "stream",
          "text": [
            "/Users/atakanemre/.pyenv/versions/3.11.0/lib/python3.11/site-packages/simpsom/network.py:629: UserWarning: No data for colormapping provided via 'c'. Parameters 'cmap' will be ignored\n",
            "  plt.scatter([pos[0]-0.125+random.random()*0.25 for pos in bmu_list],\n"
          ]
        },
        {
          "data": {
            "text/plain": [
              "<Figure size 640x480 with 0 Axes>"
            ]
          },
          "metadata": {},
          "output_type": "display_data"
        },
        {
          "data": {
            "image/png": "[encoded data removed]",
            "text/plain": [
              "<Figure size 800x600 with 1 Axes>"
            ]
          },
          "metadata": {},
          "output_type": "display_data"
        }
      ],
      "source": [
        "import numpy as np\n",
        "import matplotlib.pyplot as plt\n",
        "\n",
        "# net.project(X.values) -> 2 boyutlu koordinatların listesi \n",
        "map_coords = np.array(net.project(X.values))  \n",
        "labels = kmeans.labels_\n",
        "centers = kmeans.cluster_centers_\n",
        "\n",
        "plt.figure(figsize=(8,6))\n",
        "plt.scatter(\n",
        "    map_coords[:, 0], \n",
        "    map_coords[:, 1], \n",
        "    c=labels, \n",
        "    cmap='viridis'\n",
        ")\n",
        "plt.scatter(\n",
        "    centers[:, 0], \n",
        "    centers[:, 1],\n",
        "    marker='o', \n",
        "    s=200, \n",
        "    c='red', \n",
        "    edgecolor='k', \n",
        "    label='Centers'\n",
        ")\n",
        "plt.xlabel('X')\n",
        "plt.ylabel('Y')\n",
        "plt.title('K-Means Clustering')\n",
        "plt.legend()\n",
        "plt.show()"
      ]
    },
    {
      "cell_type": "markdown",
      "metadata": {},
      "source": [
        "Kümelerin karakteristiklerini istatistiksel olarak (ör. yaş ortalaması, gelir ortalaması) inceleyerek \"en yüksek harcamaya sahip grup\", \"orta seviye\" vb. analizler yapabilirsiniz.\n",
        "\n"
      ]
    }
  ],
  "metadata": {
    "kernelspec": {
      "display_name": "Python 3",
      "language": "python",
      "name": "python3"
    },
    "language_info": {
      "codemirror_mode": {
        "name": "ipython",
        "version": 3
      },
      "file_extension": ".py",
      "mimetype": "text/x-python",
      "name": "python",
      "nbconvert_exporter": "python",
      "pygments_lexer": "ipython3",
      "version": "3.11.0"
    }
  },
  "nbformat": 4,
  "nbformat_minor": 5
}
