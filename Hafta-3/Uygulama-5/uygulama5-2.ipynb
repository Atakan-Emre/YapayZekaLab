{
  "cells": [
    {
      "cell_type": "markdown",
      "metadata": {},
      "source": [
        "# Kredi Kartı Verileri – SOM ile Kümeleme\n",
        "Bu not defterinde, [Kaggle’daki ccdata veri seti](https://www.kaggle.com/arjunbhasin2013/ccdata) (kredi kartı müşterileri) üzerinde **SOM** tabanlı kümeleme yapılmaktadır.\n",
        "\n",
        "## Adımlar\n",
        "1. Kütüphaneleri yükle\n",
        "2. `ccdata.csv` dosyasını oku\n",
        "3. Gerekli sütunları seç veya ön işleme yap\n",
        "4. SOM ağı (20×20) oluştur ve eğit\n",
        "5. 2 boyutlu projeksiyon + K-Means ile kümeler\n",
        "6. Sonuç analizi\n"
      ]
    },
    {
      "cell_type": "code",
      "execution_count": 1,
      "metadata": {},
      "outputs": [
        {
          "name": "stdout",
          "output_type": "stream",
          "text": [
            "Kütüphaneler yüklendi.\n"
          ]
        }
      ],
      "source": [
        "# 1) Kütüphanelerin yüklenmesi\n",
        "# !pip install SimpSOM\n",
        "# !pip install pandas numpy scikit-learn\n",
        "\n",
        "import pandas as pd\n",
        "import simpsom as sps\n",
        "from sklearn.cluster import KMeans\n",
        "import numpy as np\n",
        "\n",
        "print(\"Kütüphaneler yüklendi.\")"
      ]
    },
    {
      "cell_type": "markdown",
      "metadata": {},
      "source": [
        "## 2) Veri Setinin Okunması\n",
        "[Kaggle kaynağından](https://www.kaggle.com/arjunbhasin2013/ccdata) indirilen `CC GENERAL.csv` veya benzeri isimde olabilir. Dosyayı indirip, adını `ccdata.csv` şeklinde değiştirebilir ve `.ipynb` ile aynı klasöre koyabilirsiniz.\n",
        "\n",
        "Veri setinde tipik olarak:\n",
        "- CUST_ID\n",
        "- BALANCE\n",
        "- PURCHASES\n",
        "- ...\n",
        "gibi birçok sayısal sütun bulunur.\n",
        "\n",
        "Bu örnekte basit olması açısından birkaç sütun seçeceğiz. (İsteyen herkes veriyi temizleyip daha kapsamlı işlem yapabilir.)"
      ]
    },
    {
      "cell_type": "code",
      "execution_count": 3,
      "metadata": {},
      "outputs": [
        {
          "name": "stdout",
          "output_type": "stream",
          "text": [
            "Veri boyutu: (8950, 18)\n"
          ]
        },
        {
          "data": {
            "text/html": [
              "<div>\n",
              "<style scoped>\n",
              "    .dataframe tbody tr th:only-of-type {\n",
              "        vertical-align: middle;\n",
              "    }\n",
              "\n",
              "    .dataframe tbody tr th {\n",
              "        vertical-align: top;\n",
              "    }\n",
              "\n",
              "    .dataframe thead th {\n",
              "        text-align: right;\n",
              "    }\n",
              "</style>\n",
              "<table border=\"1\" class=\"dataframe\">\n",
              "  <thead>\n",
              "    <tr style=\"text-align: right;\">\n",
              "      <th></th>\n",
              "      <th>CUST_ID</th>\n",
              "      <th>BALANCE</th>\n",
              "      <th>BALANCE_FREQUENCY</th>\n",
              "      <th>PURCHASES</th>\n",
              "      <th>ONEOFF_PURCHASES</th>\n",
              "      <th>INSTALLMENTS_PURCHASES</th>\n",
              "      <th>CASH_ADVANCE</th>\n",
              "      <th>PURCHASES_FREQUENCY</th>\n",
              "      <th>ONEOFF_PURCHASES_FREQUENCY</th>\n",
              "      <th>PURCHASES_INSTALLMENTS_FREQUENCY</th>\n",
              "      <th>CASH_ADVANCE_FREQUENCY</th>\n",
              "      <th>CASH_ADVANCE_TRX</th>\n",
              "      <th>PURCHASES_TRX</th>\n",
              "      <th>CREDIT_LIMIT</th>\n",
              "      <th>PAYMENTS</th>\n",
              "      <th>MINIMUM_PAYMENTS</th>\n",
              "      <th>PRC_FULL_PAYMENT</th>\n",
              "      <th>TENURE</th>\n",
              "    </tr>\n",
              "  </thead>\n",
              "  <tbody>\n",
              "    <tr>\n",
              "      <th>0</th>\n",
              "      <td>C10001</td>\n",
              "      <td>40.900749</td>\n",
              "      <td>0.818182</td>\n",
              "      <td>95.40</td>\n",
              "      <td>0.00</td>\n",
              "      <td>95.4</td>\n",
              "      <td>0.000000</td>\n",
              "      <td>0.166667</td>\n",
              "      <td>0.000000</td>\n",
              "      <td>0.083333</td>\n",
              "      <td>0.000000</td>\n",
              "      <td>0</td>\n",
              "      <td>2</td>\n",
              "      <td>1000.0</td>\n",
              "      <td>201.802084</td>\n",
              "      <td>139.509787</td>\n",
              "      <td>0.000000</td>\n",
              "      <td>12</td>\n",
              "    </tr>\n",
              "    <tr>\n",
              "      <th>1</th>\n",
              "      <td>C10002</td>\n",
              "      <td>3202.467416</td>\n",
              "      <td>0.909091</td>\n",
              "      <td>0.00</td>\n",
              "      <td>0.00</td>\n",
              "      <td>0.0</td>\n",
              "      <td>6442.945483</td>\n",
              "      <td>0.000000</td>\n",
              "      <td>0.000000</td>\n",
              "      <td>0.000000</td>\n",
              "      <td>0.250000</td>\n",
              "      <td>4</td>\n",
              "      <td>0</td>\n",
              "      <td>7000.0</td>\n",
              "      <td>4103.032597</td>\n",
              "      <td>1072.340217</td>\n",
              "      <td>0.222222</td>\n",
              "      <td>12</td>\n",
              "    </tr>\n",
              "    <tr>\n",
              "      <th>2</th>\n",
              "      <td>C10003</td>\n",
              "      <td>2495.148862</td>\n",
              "      <td>1.000000</td>\n",
              "      <td>773.17</td>\n",
              "      <td>773.17</td>\n",
              "      <td>0.0</td>\n",
              "      <td>0.000000</td>\n",
              "      <td>1.000000</td>\n",
              "      <td>1.000000</td>\n",
              "      <td>0.000000</td>\n",
              "      <td>0.000000</td>\n",
              "      <td>0</td>\n",
              "      <td>12</td>\n",
              "      <td>7500.0</td>\n",
              "      <td>622.066742</td>\n",
              "      <td>627.284787</td>\n",
              "      <td>0.000000</td>\n",
              "      <td>12</td>\n",
              "    </tr>\n",
              "    <tr>\n",
              "      <th>3</th>\n",
              "      <td>C10004</td>\n",
              "      <td>1666.670542</td>\n",
              "      <td>0.636364</td>\n",
              "      <td>1499.00</td>\n",
              "      <td>1499.00</td>\n",
              "      <td>0.0</td>\n",
              "      <td>205.788017</td>\n",
              "      <td>0.083333</td>\n",
              "      <td>0.083333</td>\n",
              "      <td>0.000000</td>\n",
              "      <td>0.083333</td>\n",
              "      <td>1</td>\n",
              "      <td>1</td>\n",
              "      <td>7500.0</td>\n",
              "      <td>0.000000</td>\n",
              "      <td>NaN</td>\n",
              "      <td>0.000000</td>\n",
              "      <td>12</td>\n",
              "    </tr>\n",
              "    <tr>\n",
              "      <th>4</th>\n",
              "      <td>C10005</td>\n",
              "      <td>817.714335</td>\n",
              "      <td>1.000000</td>\n",
              "      <td>16.00</td>\n",
              "      <td>16.00</td>\n",
              "      <td>0.0</td>\n",
              "      <td>0.000000</td>\n",
              "      <td>0.083333</td>\n",
              "      <td>0.083333</td>\n",
              "      <td>0.000000</td>\n",
              "      <td>0.000000</td>\n",
              "      <td>0</td>\n",
              "      <td>1</td>\n",
              "      <td>1200.0</td>\n",
              "      <td>678.334763</td>\n",
              "      <td>244.791237</td>\n",
              "      <td>0.000000</td>\n",
              "      <td>12</td>\n",
              "    </tr>\n",
              "  </tbody>\n",
              "</table>\n",
              "</div>"
            ],
            "text/plain": [
              "  CUST_ID      BALANCE  BALANCE_FREQUENCY  PURCHASES  ONEOFF_PURCHASES  \\\n",
              "0  C10001    40.900749           0.818182      95.40              0.00   \n",
              "1  C10002  3202.467416           0.909091       0.00              0.00   \n",
              "2  C10003  2495.148862           1.000000     773.17            773.17   \n",
              "3  C10004  1666.670542           0.636364    1499.00           1499.00   \n",
              "4  C10005   817.714335           1.000000      16.00             16.00   \n",
              "\n",
              "   INSTALLMENTS_PURCHASES  CASH_ADVANCE  PURCHASES_FREQUENCY  \\\n",
              "0                    95.4      0.000000             0.166667   \n",
              "1                     0.0   6442.945483             0.000000   \n",
              "2                     0.0      0.000000             1.000000   \n",
              "3                     0.0    205.788017             0.083333   \n",
              "4                     0.0      0.000000             0.083333   \n",
              "\n",
              "   ONEOFF_PURCHASES_FREQUENCY  PURCHASES_INSTALLMENTS_FREQUENCY  \\\n",
              "0                    0.000000                          0.083333   \n",
              "1                    0.000000                          0.000000   \n",
              "2                    1.000000                          0.000000   \n",
              "3                    0.083333                          0.000000   \n",
              "4                    0.083333                          0.000000   \n",
              "\n",
              "   CASH_ADVANCE_FREQUENCY  CASH_ADVANCE_TRX  PURCHASES_TRX  CREDIT_LIMIT  \\\n",
              "0                0.000000                 0              2        1000.0   \n",
              "1                0.250000                 4              0        7000.0   \n",
              "2                0.000000                 0             12        7500.0   \n",
              "3                0.083333                 1              1        7500.0   \n",
              "4                0.000000                 0              1        1200.0   \n",
              "\n",
              "      PAYMENTS  MINIMUM_PAYMENTS  PRC_FULL_PAYMENT  TENURE  \n",
              "0   201.802084        139.509787          0.000000      12  \n",
              "1  4103.032597       1072.340217          0.222222      12  \n",
              "2   622.066742        627.284787          0.000000      12  \n",
              "3     0.000000               NaN          0.000000      12  \n",
              "4   678.334763        244.791237          0.000000      12  "
            ]
          },
          "execution_count": 3,
          "metadata": {},
          "output_type": "execute_result"
        }
      ],
      "source": [
        "df = pd.read_csv(\"ccdata.csv\")  # Dosya adı, size göre fark edebilir\n",
        "print(\"Veri boyutu:\", df.shape)\n",
        "df.head()"
      ]
    },
    {
      "cell_type": "markdown",
      "metadata": {},
      "source": [
        "## 3) Veri Temizleme ve Sütun Seçme\n",
        "Kredi kartı veri setinde boş değerler (NaN) bulunabilir. Bazı sütunları `dropna()` gibi fonksiyonlarla temizleyebilirsiniz. Ayrıca `CUST_ID` gibi metinsel kimlik sütunlarını modelden çıkarıyoruz.\n",
        "\n",
        "Örnek olarak birkaç sayısal sütunu alalım: `BALANCE`, `PURCHASES`, `CASH_ADVANCE`, `CREDIT_LIMIT`, `PAYMENTS` vb."
      ]
    },
    {
      "cell_type": "code",
      "execution_count": 4,
      "metadata": {},
      "outputs": [
        {
          "name": "stdout",
          "output_type": "stream",
          "text": [
            "Seçilen sütunlar: ['BALANCE', 'PURCHASES', 'CASH_ADVANCE', 'CREDIT_LIMIT', 'PAYMENTS']\n"
          ]
        },
        {
          "data": {
            "text/html": [
              "<div>\n",
              "<style scoped>\n",
              "    .dataframe tbody tr th:only-of-type {\n",
              "        vertical-align: middle;\n",
              "    }\n",
              "\n",
              "    .dataframe tbody tr th {\n",
              "        vertical-align: top;\n",
              "    }\n",
              "\n",
              "    .dataframe thead th {\n",
              "        text-align: right;\n",
              "    }\n",
              "</style>\n",
              "<table border=\"1\" class=\"dataframe\">\n",
              "  <thead>\n",
              "    <tr style=\"text-align: right;\">\n",
              "      <th></th>\n",
              "      <th>BALANCE</th>\n",
              "      <th>PURCHASES</th>\n",
              "      <th>CASH_ADVANCE</th>\n",
              "      <th>CREDIT_LIMIT</th>\n",
              "      <th>PAYMENTS</th>\n",
              "    </tr>\n",
              "  </thead>\n",
              "  <tbody>\n",
              "    <tr>\n",
              "      <th>0</th>\n",
              "      <td>40.900749</td>\n",
              "      <td>95.40</td>\n",
              "      <td>0.000000</td>\n",
              "      <td>1000.0</td>\n",
              "      <td>201.802084</td>\n",
              "    </tr>\n",
              "    <tr>\n",
              "      <th>1</th>\n",
              "      <td>3202.467416</td>\n",
              "      <td>0.00</td>\n",
              "      <td>6442.945483</td>\n",
              "      <td>7000.0</td>\n",
              "      <td>4103.032597</td>\n",
              "    </tr>\n",
              "    <tr>\n",
              "      <th>2</th>\n",
              "      <td>2495.148862</td>\n",
              "      <td>773.17</td>\n",
              "      <td>0.000000</td>\n",
              "      <td>7500.0</td>\n",
              "      <td>622.066742</td>\n",
              "    </tr>\n",
              "    <tr>\n",
              "      <th>4</th>\n",
              "      <td>817.714335</td>\n",
              "      <td>16.00</td>\n",
              "      <td>0.000000</td>\n",
              "      <td>1200.0</td>\n",
              "      <td>678.334763</td>\n",
              "    </tr>\n",
              "    <tr>\n",
              "      <th>5</th>\n",
              "      <td>1809.828751</td>\n",
              "      <td>1333.28</td>\n",
              "      <td>0.000000</td>\n",
              "      <td>1800.0</td>\n",
              "      <td>1400.057770</td>\n",
              "    </tr>\n",
              "  </tbody>\n",
              "</table>\n",
              "</div>"
            ],
            "text/plain": [
              "       BALANCE  PURCHASES  CASH_ADVANCE  CREDIT_LIMIT     PAYMENTS\n",
              "0    40.900749      95.40      0.000000        1000.0   201.802084\n",
              "1  3202.467416       0.00   6442.945483        7000.0  4103.032597\n",
              "2  2495.148862     773.17      0.000000        7500.0   622.066742\n",
              "4   817.714335      16.00      0.000000        1200.0   678.334763\n",
              "5  1809.828751    1333.28      0.000000        1800.0  1400.057770"
            ]
          },
          "execution_count": 4,
          "metadata": {},
          "output_type": "execute_result"
        }
      ],
      "source": [
        "# Boş değerleri doldurma veya çıkarma\n",
        "df.dropna(inplace=True)\n",
        "\n",
        "df2 = df.drop(columns=[\"CUST_ID\"], errors='ignore')  # Müşteri ID'yi çıkar\n",
        "sütunlar = [\"BALANCE\", \"PURCHASES\", \"CASH_ADVANCE\", \"CREDIT_LIMIT\", \"PAYMENTS\"]\n",
        "\n",
        "# Var olan sütunları alalım\n",
        "df2 = df2[sütunlar]\n",
        "\n",
        "print(\"Seçilen sütunlar:\", df2.columns.tolist())\n",
        "df2.head()"
      ]
    },
    {
      "cell_type": "markdown",
      "metadata": {},
      "source": [
        "## 4) SOM Ağı Oluşturma ve Eğitme\n",
        "Yine 20×20 bir ağ oluşturuyoruz. 0.01 öğrenme katsayısı ve 2000 epok (istediğiniz gibi değiştirebilirsiniz)."
      ]
    },
    {
      "cell_type": "code",
      "execution_count": 6,
      "metadata": {},
      "outputs": [
        {
          "name": "stdout",
          "output_type": "stream",
          "text": [
            "Periodic Boundary Conditions active.\n",
            "The weights will be initialized with PCA.\n",
            "SOM oluşturuldu.\n",
            "The map will be trained with the batch algorithm.\n",
            "Training SOM... done!\n",
            "SOM eğitimi tamamlandı.\n"
          ]
        }
      ],
      "source": [
        "X = df2.values\n",
        "\n",
        "net = sps.SOMNet(\n",
        "    20, 20,  # harita boyutu\n",
        "    X,       # NumPy array verisi\n",
        "    PBC=True\n",
        ")\n",
        "print(\"SOM oluşturuldu.\")\n",
        "\n",
        "# Ağı eğitelim (2000 epok, öğrenme katsayısı 0.01)\n",
        "net.train(train_algo='batch', epochs=2000, start_learning_rate=0.01)\n",
        "print(\"SOM eğitimi tamamlandı.\")"
      ]
    },
    {
      "cell_type": "markdown",
      "metadata": {},
      "source": [
        "## 5) 2D Projeksiyon ve K-Means ile Kümeleme\n",
        "Bu aşamada `net.project(X)` ile 2 boyutlu koordinatlar elde eder, `KMeans` (örneğin 3 kümeye) uygularız."
      ]
    },
    {
      "cell_type": "code",
      "execution_count": 7,
      "metadata": {},
      "outputs": [
        {
          "name": "stderr",
          "output_type": "stream",
          "text": [
            "/Users/atakanemre/.pyenv/versions/3.11.0/lib/python3.11/site-packages/simpsom/network.py:629: UserWarning: No data for colormapping provided via 'c'. Parameters 'cmap' will be ignored\n",
            "  plt.scatter([pos[0]-0.125+random.random()*0.25 for pos in bmu_list],\n"
          ]
        },
        {
          "name": "stdout",
          "output_type": "stream",
          "text": [
            "Küme etiketleri (ilk 20): [1 2 0 1 1 2 1 0 0 1 0 1 0 1 2 2 0 0 2 1]\n",
            "Toplam örnek sayısı: 8636\n"
          ]
        },
        {
          "data": {
            "text/plain": [
              "<Figure size 640x480 with 0 Axes>"
            ]
          },
          "metadata": {},
          "output_type": "display_data"
        }
      ],
      "source": [
        "coords = np.array(net.project(X))\n",
        "kmeans = KMeans(n_clusters=3, random_state=0)\n",
        "labels = kmeans.fit_predict(coords)\n",
        "\n",
        "print(\"Küme etiketleri (ilk 20):\", labels[:20])\n",
        "print(\"Toplam örnek sayısı:\", len(labels))"
      ]
    },
    {
      "cell_type": "markdown",
      "metadata": {},
      "source": [
        "## 6) Sonuç Analizi\n",
        "DataFrame’e `Cluster` sütunu ekleyerek hangi müşterinin (satırın) hangi kümeye denk geldiğini inceleyebiliriz."
      ]
    },
    {
      "cell_type": "code",
      "execution_count": 8,
      "metadata": {},
      "outputs": [
        {
          "data": {
            "text/html": [
              "<div>\n",
              "<style scoped>\n",
              "    .dataframe tbody tr th:only-of-type {\n",
              "        vertical-align: middle;\n",
              "    }\n",
              "\n",
              "    .dataframe tbody tr th {\n",
              "        vertical-align: top;\n",
              "    }\n",
              "\n",
              "    .dataframe thead th {\n",
              "        text-align: right;\n",
              "    }\n",
              "</style>\n",
              "<table border=\"1\" class=\"dataframe\">\n",
              "  <thead>\n",
              "    <tr style=\"text-align: right;\">\n",
              "      <th></th>\n",
              "      <th>BALANCE</th>\n",
              "      <th>PURCHASES</th>\n",
              "      <th>CASH_ADVANCE</th>\n",
              "      <th>CREDIT_LIMIT</th>\n",
              "      <th>PAYMENTS</th>\n",
              "      <th>Cluster</th>\n",
              "    </tr>\n",
              "  </thead>\n",
              "  <tbody>\n",
              "    <tr>\n",
              "      <th>0</th>\n",
              "      <td>40.900749</td>\n",
              "      <td>95.40</td>\n",
              "      <td>0.000000</td>\n",
              "      <td>1000.0</td>\n",
              "      <td>201.802084</td>\n",
              "      <td>1</td>\n",
              "    </tr>\n",
              "    <tr>\n",
              "      <th>1</th>\n",
              "      <td>3202.467416</td>\n",
              "      <td>0.00</td>\n",
              "      <td>6442.945483</td>\n",
              "      <td>7000.0</td>\n",
              "      <td>4103.032597</td>\n",
              "      <td>2</td>\n",
              "    </tr>\n",
              "    <tr>\n",
              "      <th>2</th>\n",
              "      <td>2495.148862</td>\n",
              "      <td>773.17</td>\n",
              "      <td>0.000000</td>\n",
              "      <td>7500.0</td>\n",
              "      <td>622.066742</td>\n",
              "      <td>0</td>\n",
              "    </tr>\n",
              "    <tr>\n",
              "      <th>4</th>\n",
              "      <td>817.714335</td>\n",
              "      <td>16.00</td>\n",
              "      <td>0.000000</td>\n",
              "      <td>1200.0</td>\n",
              "      <td>678.334763</td>\n",
              "      <td>1</td>\n",
              "    </tr>\n",
              "    <tr>\n",
              "      <th>5</th>\n",
              "      <td>1809.828751</td>\n",
              "      <td>1333.28</td>\n",
              "      <td>0.000000</td>\n",
              "      <td>1800.0</td>\n",
              "      <td>1400.057770</td>\n",
              "      <td>1</td>\n",
              "    </tr>\n",
              "    <tr>\n",
              "      <th>6</th>\n",
              "      <td>627.260806</td>\n",
              "      <td>7091.01</td>\n",
              "      <td>0.000000</td>\n",
              "      <td>13500.0</td>\n",
              "      <td>6354.314328</td>\n",
              "      <td>2</td>\n",
              "    </tr>\n",
              "    <tr>\n",
              "      <th>7</th>\n",
              "      <td>1823.652743</td>\n",
              "      <td>436.20</td>\n",
              "      <td>0.000000</td>\n",
              "      <td>2300.0</td>\n",
              "      <td>679.065082</td>\n",
              "      <td>1</td>\n",
              "    </tr>\n",
              "    <tr>\n",
              "      <th>8</th>\n",
              "      <td>1014.926473</td>\n",
              "      <td>861.49</td>\n",
              "      <td>0.000000</td>\n",
              "      <td>7000.0</td>\n",
              "      <td>688.278568</td>\n",
              "      <td>0</td>\n",
              "    </tr>\n",
              "    <tr>\n",
              "      <th>9</th>\n",
              "      <td>152.225975</td>\n",
              "      <td>1281.60</td>\n",
              "      <td>0.000000</td>\n",
              "      <td>11000.0</td>\n",
              "      <td>1164.770591</td>\n",
              "      <td>0</td>\n",
              "    </tr>\n",
              "    <tr>\n",
              "      <th>10</th>\n",
              "      <td>1293.124939</td>\n",
              "      <td>920.12</td>\n",
              "      <td>0.000000</td>\n",
              "      <td>1200.0</td>\n",
              "      <td>1083.301007</td>\n",
              "      <td>1</td>\n",
              "    </tr>\n",
              "  </tbody>\n",
              "</table>\n",
              "</div>"
            ],
            "text/plain": [
              "        BALANCE  PURCHASES  CASH_ADVANCE  CREDIT_LIMIT     PAYMENTS  Cluster\n",
              "0     40.900749      95.40      0.000000        1000.0   201.802084        1\n",
              "1   3202.467416       0.00   6442.945483        7000.0  4103.032597        2\n",
              "2   2495.148862     773.17      0.000000        7500.0   622.066742        0\n",
              "4    817.714335      16.00      0.000000        1200.0   678.334763        1\n",
              "5   1809.828751    1333.28      0.000000        1800.0  1400.057770        1\n",
              "6    627.260806    7091.01      0.000000       13500.0  6354.314328        2\n",
              "7   1823.652743     436.20      0.000000        2300.0   679.065082        1\n",
              "8   1014.926473     861.49      0.000000        7000.0   688.278568        0\n",
              "9    152.225975    1281.60      0.000000       11000.0  1164.770591        0\n",
              "10  1293.124939     920.12      0.000000        1200.0  1083.301007        1"
            ]
          },
          "execution_count": 8,
          "metadata": {},
          "output_type": "execute_result"
        }
      ],
      "source": [
        "df2[\"Cluster\"] = labels\n",
        "df2.head(10)"
      ]
    },
    {
      "cell_type": "code",
      "execution_count": 10,
      "id": "a125daea",
      "metadata": {},
      "outputs": [
        {
          "name": "stderr",
          "output_type": "stream",
          "text": [
            "/Users/atakanemre/.pyenv/versions/3.11.0/lib/python3.11/site-packages/simpsom/network.py:629: UserWarning: No data for colormapping provided via 'c'. Parameters 'cmap' will be ignored\n",
            "  plt.scatter([pos[0]-0.125+random.random()*0.25 for pos in bmu_list],\n"
          ]
        },
        {
          "data": {
            "text/plain": [
              "<Figure size 640x480 with 0 Axes>"
            ]
          },
          "metadata": {},
          "output_type": "display_data"
        },
        {
          "data": {
            "image/png": "[encoded data removed]",
            "text/plain": [
              "<Figure size 800x600 with 1 Axes>"
            ]
          },
          "metadata": {},
          "output_type": "display_data"
        }
      ],
      "source": [
        "import numpy as np\n",
        "import matplotlib.pyplot as plt\n",
        "\n",
        "# net.project(X) -> 2 boyutlu koordinatların listesi \n",
        "map_coords = np.array(net.project(X))  # X.values yerine X kullanıyoruz\n",
        "labels = kmeans.labels_\n",
        "centers = kmeans.cluster_centers_\n",
        "\n",
        "plt.figure(figsize=(8,6))\n",
        "plt.scatter(\n",
        "    map_coords[:, 0], \n",
        "    map_coords[:, 1], \n",
        "    c=labels, \n",
        "    cmap='viridis'\n",
        ")\n",
        "plt.scatter(\n",
        "    centers[:, 0], \n",
        "    centers[:, 1],\n",
        "    marker='o', \n",
        "    s=200, \n",
        "    c='red', \n",
        "    edgecolor='k', \n",
        "    label='Centers'\n",
        ")\n",
        "plt.xlabel('X')\n",
        "plt.ylabel('Y')\n",
        "plt.title('K-Means Clustering')\n",
        "plt.legend()\n",
        "plt.show()"
      ]
    },
    {
      "cell_type": "markdown",
      "metadata": {},
      "source": [
        "Böylece her müşteri (kredi kartı kullanıcısı), 3 kümeden birine atanmış oldu. Kümelerin hangi özelliklerde ayrıştığını inceleyip, \"Yüksek Harcama grubu\" vs. gibi yorumlar yapılabilir.\n",
        "\n"
      ]
    }
  ],
  "metadata": {
    "kernelspec": {
      "display_name": "Python 3",
      "language": "python",
      "name": "python3"
    },
    "language_info": {
      "codemirror_mode": {
        "name": "ipython",
        "version": 3
      },
      "file_extension": ".py",
      "mimetype": "text/x-python",
      "name": "python",
      "nbconvert_exporter": "python",
      "pygments_lexer": "ipython3",
      "version": "3.11.0"
    }
  },
  "nbformat": 4,
  "nbformat_minor": 5
}
