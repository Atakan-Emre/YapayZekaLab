{
  "cells": [
    {
      "cell_type": "markdown",
      "metadata": {},
      "source": [
        "# Uygulama 5 – SOM ile Kümeleme (Eski SimpSOM Sürümü)\n",
        "Bu not defterinde, PDF veya resim olarak verilmiş örnek kodlar birleştirilmiştir. Amaç:\n",
        "1. `airline-safety.csv` verisetini okumak\n",
        "2. Gereksiz sütunları çıkarmak (örneğin `avail_seat_km_per_week`)\n",
        "3. 20×20 boyutunda SOM haritası oluşturmak\n",
        "4. 0.01 öğrenme katsayısıyla 10.000 epok SOM eğitimi\n",
        "5. Elde edilen 2B koordinatlar üzerinde K-Means ile 3 kümeleme\n",
        "6. Sonuçları veri çerçevesine ekleyip hangi firmaların hangi kümede olduğuna bakmak\n",
        "\n",
        "> **Not**: Bu kod, PyPI’de bulunan eski **SimpSOM** yapısına uygundur. Yani `import SimpSOM as sps` ve `sps.somNet(...)` formatını kullanır."
      ]
    },
    {
      "cell_type": "code",
      "execution_count": 12,
      "metadata": {},
      "outputs": [
        {
          "name": "stdout",
          "output_type": "stream",
          "text": [
            "Kütüphaneler yüklendi.\n"
          ]
        }
      ],
      "source": [
        "# 1) Gerekli kütüphanelerin eklenmesi\n",
        "# pip install SimpSOM\n",
        "# pip install pandas scikit-learn numpy\n",
        "\n",
        "import pandas as pd\n",
        "import simpsom as sps\n",
        "from sklearn.cluster import KMeans\n",
        "import numpy as np\n",
        "\n",
        "print(\"Kütüphaneler yüklendi.\")"
      ]
    },
    {
      "cell_type": "markdown",
      "metadata": {},
      "source": [
        "## 2) Verisetinin Yüklenmesi ve Ön İşlemler\n",
        "Kodda, resimlerdeki gibi bir yol verilmişti (`C:/Users/burak/Desktop/Uygulama 5.1/airline-safety.csv`). Siz kendi çalışma dizininize göre düzenleyebilirsiniz.\n",
        "Ardından `airline` ve `avail_seat_km_per_week` sütunlarını düşürürüz."
      ]
    },
    {
      "cell_type": "code",
      "execution_count": 13,
      "metadata": {},
      "outputs": [
        {
          "name": "stdout",
          "output_type": "stream",
          "text": [
            "Okunan veri seti boyutu: (56, 8)\n"
          ]
        },
        {
          "data": {
            "text/html": [
              "<div>\n",
              "<style scoped>\n",
              "    .dataframe tbody tr th:only-of-type {\n",
              "        vertical-align: middle;\n",
              "    }\n",
              "\n",
              "    .dataframe tbody tr th {\n",
              "        vertical-align: top;\n",
              "    }\n",
              "\n",
              "    .dataframe thead th {\n",
              "        text-align: right;\n",
              "    }\n",
              "</style>\n",
              "<table border=\"1\" class=\"dataframe\">\n",
              "  <thead>\n",
              "    <tr style=\"text-align: right;\">\n",
              "      <th></th>\n",
              "      <th>airline</th>\n",
              "      <th>avail_seat_km_per_week</th>\n",
              "      <th>incidents_85_99</th>\n",
              "      <th>fatal_accidents_85_99</th>\n",
              "      <th>fatalities_85_99</th>\n",
              "      <th>incidents_00_14</th>\n",
              "      <th>fatal_accidents_00_14</th>\n",
              "      <th>fatalities_00_14</th>\n",
              "    </tr>\n",
              "  </thead>\n",
              "  <tbody>\n",
              "    <tr>\n",
              "      <th>0</th>\n",
              "      <td>Aer Lingus</td>\n",
              "      <td>320906734</td>\n",
              "      <td>2</td>\n",
              "      <td>0</td>\n",
              "      <td>0</td>\n",
              "      <td>0</td>\n",
              "      <td>0</td>\n",
              "      <td>0</td>\n",
              "    </tr>\n",
              "    <tr>\n",
              "      <th>1</th>\n",
              "      <td>Aeroflot*</td>\n",
              "      <td>1197672318</td>\n",
              "      <td>76</td>\n",
              "      <td>14</td>\n",
              "      <td>128</td>\n",
              "      <td>6</td>\n",
              "      <td>1</td>\n",
              "      <td>88</td>\n",
              "    </tr>\n",
              "    <tr>\n",
              "      <th>2</th>\n",
              "      <td>Aerolineas Argentinas</td>\n",
              "      <td>385803648</td>\n",
              "      <td>6</td>\n",
              "      <td>0</td>\n",
              "      <td>0</td>\n",
              "      <td>1</td>\n",
              "      <td>0</td>\n",
              "      <td>0</td>\n",
              "    </tr>\n",
              "    <tr>\n",
              "      <th>3</th>\n",
              "      <td>Aeromexico*</td>\n",
              "      <td>596871813</td>\n",
              "      <td>3</td>\n",
              "      <td>1</td>\n",
              "      <td>64</td>\n",
              "      <td>5</td>\n",
              "      <td>0</td>\n",
              "      <td>0</td>\n",
              "    </tr>\n",
              "    <tr>\n",
              "      <th>4</th>\n",
              "      <td>Air Canada</td>\n",
              "      <td>1865253802</td>\n",
              "      <td>2</td>\n",
              "      <td>0</td>\n",
              "      <td>0</td>\n",
              "      <td>2</td>\n",
              "      <td>0</td>\n",
              "      <td>0</td>\n",
              "    </tr>\n",
              "  </tbody>\n",
              "</table>\n",
              "</div>"
            ],
            "text/plain": [
              "                 airline  avail_seat_km_per_week  incidents_85_99  \\\n",
              "0             Aer Lingus               320906734                2   \n",
              "1              Aeroflot*              1197672318               76   \n",
              "2  Aerolineas Argentinas               385803648                6   \n",
              "3            Aeromexico*               596871813                3   \n",
              "4             Air Canada              1865253802                2   \n",
              "\n",
              "   fatal_accidents_85_99  fatalities_85_99  incidents_00_14  \\\n",
              "0                      0                 0                0   \n",
              "1                     14               128                6   \n",
              "2                      0                 0                1   \n",
              "3                      1                64                5   \n",
              "4                      0                 0                2   \n",
              "\n",
              "   fatal_accidents_00_14  fatalities_00_14  \n",
              "0                      0                 0  \n",
              "1                      1                88  \n",
              "2                      0                 0  \n",
              "3                      0                 0  \n",
              "4                      0                 0  "
            ]
          },
          "metadata": {},
          "output_type": "display_data"
        },
        {
          "name": "stdout",
          "output_type": "stream",
          "text": [
            "Modelde kullanılacak sütunlar: ['incidents_85_99', 'fatal_accidents_85_99', 'fatalities_85_99', 'incidents_00_14', 'fatal_accidents_00_14', 'fatalities_00_14']\n"
          ]
        }
      ],
      "source": [
        "# Veri seti yolunu düzenleyebilirsiniz:\n",
        "veri = pd.read_csv(\"airline-safety.csv\")  # Aynı klasördeyse sadece dosya adı yeter\n",
        "\n",
        "print(\"Okunan veri seti boyutu:\", veri.shape)\n",
        "display(veri.head())\n",
        "\n",
        "# Gereksiz sütunları çıkaralım:\n",
        "X = veri.drop([\"airline\", \"avail_seat_km_per_week\"], axis=1)\n",
        "print(\"Modelde kullanılacak sütunlar:\", X.columns.tolist())"
      ]
    },
    {
      "cell_type": "markdown",
      "metadata": {},
      "source": [
        "## 3) SOM Ağı Oluşturma\n",
        "Resimdeki gibi:\n",
        "```python\n",
        "net = sps.somNet(20, 20, X.values, PBC=True)\n",
        "```\n",
        "Bu parametreler, 20×20 boyutlu SOM haritası ve periyodik sınır koşullarını etkinleştirir."
      ]
    },
    {
      "cell_type": "code",
      "execution_count": 18,
      "metadata": {},
      "outputs": [
        {
          "name": "stdout",
          "output_type": "stream",
          "text": [
            "Periodic Boundary Conditions active.\n",
            "The weights will be initialized with PCA.\n",
            "SOM ağı oluşturuldu.\n"
          ]
        }
      ],
      "source": [
        "net = sps.SOMNet(\n",
        "    20,         # Genişlik\n",
        "    20,         # Yükseklik\n",
        "    X.values,   # NumPy array\n",
        "    PBC=True    # Periyodik sınırlar\n",
        ")\n",
        "print(\"SOM ağı oluşturuldu.\")"
      ]
    },
    {
      "cell_type": "markdown",
      "metadata": {},
      "source": [
        "## 4) Ağın Eğitilmesi\n",
        "Dokümanda: `net.train(0.01, 10000)` kullanılıyor (0.01 öğrenme oranı, 10000 epok). Bazı sürümlerde `net.train(lr=0.01, ... )` denendiğinde uymaz; bu kütüphanede parametreler sırasıyla girilir.\n",
        "\n",
        "```python\n",
        "net.train(learningRate=0.01, epochs=10000)\n",
        "```\n",
        "gibi varyasyonlar da görülebilir, ancak orijinal metinde sayısal argüman olarak geçiyor. Aşağıdaki kod birebir resimdeki hale uyarlanmıştır."
      ]
    },
    {
      "cell_type": "code",
      "execution_count": 20,
      "metadata": {},
      "outputs": [
        {
          "name": "stdout",
          "output_type": "stream",
          "text": [
            "The map will be trained with the batch algorithm.\n",
            "Training SOM... done!\n",
            "SOM eğitimi tamamlandı.\n"
          ]
        }
      ],
      "source": [
        "# Ağ eğitimi (epok sayısı 10.000, öğrenme katsayısı 0.01)\n",
        "net.train(train_algo='batch', epochs=10000, start_learning_rate=0.01)\n",
        "print(\"SOM eğitimi tamamlandı.\")"
      ]
    },
    {
      "cell_type": "markdown",
      "metadata": {},
      "source": [
        "## 5) Verilerin 2 Boyutlu Haritaya Projeksiyonu ve K-Means ile Kümeleme\n",
        "Resimde şu kod görülüyordu:\n",
        "```python\n",
        "hrt = np.array(net.project(X.values))\n",
        "kmeans = KMeans(n_clusters=3, max_iter=300, random_state=0)\n",
        "y_kmeans = kmeans.fit_predict(hrt)\n",
        "```\n",
        "Böylece her veri noktası (uçak firması) SOM üzerinde 2D koordinatlara yansıtılır (`hrt`). Sonra da 3 kümeli K-Means ile ayrılır."
      ]
    },
    {
      "cell_type": "code",
      "execution_count": 21,
      "metadata": {},
      "outputs": [
        {
          "name": "stdout",
          "output_type": "stream",
          "text": [
            "Küme etiketleri: [0 2 0 2 0 1 1 0 0 2 0 1 0 1 0 0 1 0 2 1 1 0 1 0 2 0 0 2 1 1 0 1 0 0 1 2 2\n",
            " 0 2 0 1 0 2 0 0 2 0 1 0 1 0 1 2 2 0 2]\n",
            "Toplam örnek sayısı: 56\n"
          ]
        },
        {
          "name": "stderr",
          "output_type": "stream",
          "text": [
            "/Users/atakanemre/.pyenv/versions/3.11.0/lib/python3.11/site-packages/simpsom/network.py:629: UserWarning: No data for colormapping provided via 'c'. Parameters 'cmap' will be ignored\n",
            "  plt.scatter([pos[0]-0.125+random.random()*0.25 for pos in bmu_list],\n"
          ]
        },
        {
          "data": {
            "text/plain": [
              "<Figure size 640x480 with 0 Axes>"
            ]
          },
          "metadata": {},
          "output_type": "display_data"
        }
      ],
      "source": [
        "hrt = np.array(net.project(X.values))\n",
        "kmeans = KMeans(\n",
        "    n_clusters=3,  # 3 küme\n",
        "    max_iter=300,\n",
        "    random_state=0\n",
        ")\n",
        "y_kmeans = kmeans.fit_predict(hrt)\n",
        "print(\"Küme etiketleri:\", y_kmeans)\n",
        "print(\"Toplam örnek sayısı:\", len(y_kmeans))"
      ]
    },
    {
      "cell_type": "markdown",
      "metadata": {},
      "source": [
        "## 6) Küme Etiketlerinin Verisetiyle Birleştirilmesi\n",
        "Resimdeki gibi:\n",
        "```python\n",
        "veri[\"kümeler\"] = kmeans.labels_\n",
        "print(veri[veri[\"kümeler\"]==0].head(5))\n",
        "...\n",
        "```\n",
        "Böylece “0”, “1”, ve “2” kümelerindeki ilk beş satırı görebiliriz. Kümeleri “en iyi firma”, “orta güvenli” vs. şeklinde yorumlayabilirsiniz."
      ]
    },
    {
      "cell_type": "code",
      "execution_count": 22,
      "metadata": {},
      "outputs": [
        {
          "name": "stdout",
          "output_type": "stream",
          "text": [
            "#0 numaralı küme (İlk 5 satır)\n"
          ]
        },
        {
          "data": {
            "text/html": [
              "<div>\n",
              "<style scoped>\n",
              "    .dataframe tbody tr th:only-of-type {\n",
              "        vertical-align: middle;\n",
              "    }\n",
              "\n",
              "    .dataframe tbody tr th {\n",
              "        vertical-align: top;\n",
              "    }\n",
              "\n",
              "    .dataframe thead th {\n",
              "        text-align: right;\n",
              "    }\n",
              "</style>\n",
              "<table border=\"1\" class=\"dataframe\">\n",
              "  <thead>\n",
              "    <tr style=\"text-align: right;\">\n",
              "      <th></th>\n",
              "      <th>airline</th>\n",
              "      <th>avail_seat_km_per_week</th>\n",
              "      <th>incidents_85_99</th>\n",
              "      <th>fatal_accidents_85_99</th>\n",
              "      <th>fatalities_85_99</th>\n",
              "      <th>incidents_00_14</th>\n",
              "      <th>fatal_accidents_00_14</th>\n",
              "      <th>fatalities_00_14</th>\n",
              "      <th>kümeler</th>\n",
              "    </tr>\n",
              "  </thead>\n",
              "  <tbody>\n",
              "    <tr>\n",
              "      <th>0</th>\n",
              "      <td>Aer Lingus</td>\n",
              "      <td>320906734</td>\n",
              "      <td>2</td>\n",
              "      <td>0</td>\n",
              "      <td>0</td>\n",
              "      <td>0</td>\n",
              "      <td>0</td>\n",
              "      <td>0</td>\n",
              "      <td>0</td>\n",
              "    </tr>\n",
              "    <tr>\n",
              "      <th>2</th>\n",
              "      <td>Aerolineas Argentinas</td>\n",
              "      <td>385803648</td>\n",
              "      <td>6</td>\n",
              "      <td>0</td>\n",
              "      <td>0</td>\n",
              "      <td>1</td>\n",
              "      <td>0</td>\n",
              "      <td>0</td>\n",
              "      <td>0</td>\n",
              "    </tr>\n",
              "    <tr>\n",
              "      <th>4</th>\n",
              "      <td>Air Canada</td>\n",
              "      <td>1865253802</td>\n",
              "      <td>2</td>\n",
              "      <td>0</td>\n",
              "      <td>0</td>\n",
              "      <td>2</td>\n",
              "      <td>0</td>\n",
              "      <td>0</td>\n",
              "      <td>0</td>\n",
              "    </tr>\n",
              "    <tr>\n",
              "      <th>7</th>\n",
              "      <td>Air New Zealand*</td>\n",
              "      <td>710174817</td>\n",
              "      <td>3</td>\n",
              "      <td>0</td>\n",
              "      <td>0</td>\n",
              "      <td>5</td>\n",
              "      <td>1</td>\n",
              "      <td>7</td>\n",
              "      <td>0</td>\n",
              "    </tr>\n",
              "    <tr>\n",
              "      <th>8</th>\n",
              "      <td>Alaska Airlines*</td>\n",
              "      <td>965346773</td>\n",
              "      <td>5</td>\n",
              "      <td>0</td>\n",
              "      <td>0</td>\n",
              "      <td>5</td>\n",
              "      <td>1</td>\n",
              "      <td>88</td>\n",
              "      <td>0</td>\n",
              "    </tr>\n",
              "  </tbody>\n",
              "</table>\n",
              "</div>"
            ],
            "text/plain": [
              "                 airline  avail_seat_km_per_week  incidents_85_99  \\\n",
              "0             Aer Lingus               320906734                2   \n",
              "2  Aerolineas Argentinas               385803648                6   \n",
              "4             Air Canada              1865253802                2   \n",
              "7       Air New Zealand*               710174817                3   \n",
              "8       Alaska Airlines*               965346773                5   \n",
              "\n",
              "   fatal_accidents_85_99  fatalities_85_99  incidents_00_14  \\\n",
              "0                      0                 0                0   \n",
              "2                      0                 0                1   \n",
              "4                      0                 0                2   \n",
              "7                      0                 0                5   \n",
              "8                      0                 0                5   \n",
              "\n",
              "   fatal_accidents_00_14  fatalities_00_14  kümeler  \n",
              "0                      0                 0        0  \n",
              "2                      0                 0        0  \n",
              "4                      0                 0        0  \n",
              "7                      1                 7        0  \n",
              "8                      1                88        0  "
            ]
          },
          "metadata": {},
          "output_type": "display_data"
        },
        {
          "name": "stdout",
          "output_type": "stream",
          "text": [
            "\n",
            "#1 numaralı küme (İlk 5 satır)\n"
          ]
        },
        {
          "data": {
            "text/html": [
              "<div>\n",
              "<style scoped>\n",
              "    .dataframe tbody tr th:only-of-type {\n",
              "        vertical-align: middle;\n",
              "    }\n",
              "\n",
              "    .dataframe tbody tr th {\n",
              "        vertical-align: top;\n",
              "    }\n",
              "\n",
              "    .dataframe thead th {\n",
              "        text-align: right;\n",
              "    }\n",
              "</style>\n",
              "<table border=\"1\" class=\"dataframe\">\n",
              "  <thead>\n",
              "    <tr style=\"text-align: right;\">\n",
              "      <th></th>\n",
              "      <th>airline</th>\n",
              "      <th>avail_seat_km_per_week</th>\n",
              "      <th>incidents_85_99</th>\n",
              "      <th>fatal_accidents_85_99</th>\n",
              "      <th>fatalities_85_99</th>\n",
              "      <th>incidents_00_14</th>\n",
              "      <th>fatal_accidents_00_14</th>\n",
              "      <th>fatalities_00_14</th>\n",
              "      <th>kümeler</th>\n",
              "    </tr>\n",
              "  </thead>\n",
              "  <tbody>\n",
              "    <tr>\n",
              "      <th>5</th>\n",
              "      <td>Air France</td>\n",
              "      <td>3004002661</td>\n",
              "      <td>14</td>\n",
              "      <td>4</td>\n",
              "      <td>79</td>\n",
              "      <td>6</td>\n",
              "      <td>2</td>\n",
              "      <td>337</td>\n",
              "      <td>1</td>\n",
              "    </tr>\n",
              "    <tr>\n",
              "      <th>6</th>\n",
              "      <td>Air India*</td>\n",
              "      <td>869253552</td>\n",
              "      <td>2</td>\n",
              "      <td>1</td>\n",
              "      <td>329</td>\n",
              "      <td>4</td>\n",
              "      <td>1</td>\n",
              "      <td>158</td>\n",
              "      <td>1</td>\n",
              "    </tr>\n",
              "    <tr>\n",
              "      <th>11</th>\n",
              "      <td>American*</td>\n",
              "      <td>5228357340</td>\n",
              "      <td>21</td>\n",
              "      <td>5</td>\n",
              "      <td>101</td>\n",
              "      <td>17</td>\n",
              "      <td>3</td>\n",
              "      <td>416</td>\n",
              "      <td>1</td>\n",
              "    </tr>\n",
              "    <tr>\n",
              "      <th>13</th>\n",
              "      <td>Avianca</td>\n",
              "      <td>396922563</td>\n",
              "      <td>5</td>\n",
              "      <td>3</td>\n",
              "      <td>323</td>\n",
              "      <td>0</td>\n",
              "      <td>0</td>\n",
              "      <td>0</td>\n",
              "      <td>1</td>\n",
              "    </tr>\n",
              "    <tr>\n",
              "      <th>16</th>\n",
              "      <td>China Airlines</td>\n",
              "      <td>813216487</td>\n",
              "      <td>12</td>\n",
              "      <td>6</td>\n",
              "      <td>535</td>\n",
              "      <td>2</td>\n",
              "      <td>1</td>\n",
              "      <td>225</td>\n",
              "      <td>1</td>\n",
              "    </tr>\n",
              "  </tbody>\n",
              "</table>\n",
              "</div>"
            ],
            "text/plain": [
              "           airline  avail_seat_km_per_week  incidents_85_99  \\\n",
              "5       Air France              3004002661               14   \n",
              "6       Air India*               869253552                2   \n",
              "11       American*              5228357340               21   \n",
              "13         Avianca               396922563                5   \n",
              "16  China Airlines               813216487               12   \n",
              "\n",
              "    fatal_accidents_85_99  fatalities_85_99  incidents_00_14  \\\n",
              "5                       4                79                6   \n",
              "6                       1               329                4   \n",
              "11                      5               101               17   \n",
              "13                      3               323                0   \n",
              "16                      6               535                2   \n",
              "\n",
              "    fatal_accidents_00_14  fatalities_00_14  kümeler  \n",
              "5                       2               337        1  \n",
              "6                       1               158        1  \n",
              "11                      3               416        1  \n",
              "13                      0                 0        1  \n",
              "16                      1               225        1  "
            ]
          },
          "metadata": {},
          "output_type": "display_data"
        },
        {
          "name": "stdout",
          "output_type": "stream",
          "text": [
            "\n",
            "#2 numaralı küme (İlk 5 satır)\n"
          ]
        },
        {
          "data": {
            "text/html": [
              "<div>\n",
              "<style scoped>\n",
              "    .dataframe tbody tr th:only-of-type {\n",
              "        vertical-align: middle;\n",
              "    }\n",
              "\n",
              "    .dataframe tbody tr th {\n",
              "        vertical-align: top;\n",
              "    }\n",
              "\n",
              "    .dataframe thead th {\n",
              "        text-align: right;\n",
              "    }\n",
              "</style>\n",
              "<table border=\"1\" class=\"dataframe\">\n",
              "  <thead>\n",
              "    <tr style=\"text-align: right;\">\n",
              "      <th></th>\n",
              "      <th>airline</th>\n",
              "      <th>avail_seat_km_per_week</th>\n",
              "      <th>incidents_85_99</th>\n",
              "      <th>fatal_accidents_85_99</th>\n",
              "      <th>fatalities_85_99</th>\n",
              "      <th>incidents_00_14</th>\n",
              "      <th>fatal_accidents_00_14</th>\n",
              "      <th>fatalities_00_14</th>\n",
              "      <th>kümeler</th>\n",
              "    </tr>\n",
              "  </thead>\n",
              "  <tbody>\n",
              "    <tr>\n",
              "      <th>1</th>\n",
              "      <td>Aeroflot*</td>\n",
              "      <td>1197672318</td>\n",
              "      <td>76</td>\n",
              "      <td>14</td>\n",
              "      <td>128</td>\n",
              "      <td>6</td>\n",
              "      <td>1</td>\n",
              "      <td>88</td>\n",
              "      <td>2</td>\n",
              "    </tr>\n",
              "    <tr>\n",
              "      <th>3</th>\n",
              "      <td>Aeromexico*</td>\n",
              "      <td>596871813</td>\n",
              "      <td>3</td>\n",
              "      <td>1</td>\n",
              "      <td>64</td>\n",
              "      <td>5</td>\n",
              "      <td>0</td>\n",
              "      <td>0</td>\n",
              "      <td>2</td>\n",
              "    </tr>\n",
              "    <tr>\n",
              "      <th>9</th>\n",
              "      <td>Alitalia</td>\n",
              "      <td>698012498</td>\n",
              "      <td>7</td>\n",
              "      <td>2</td>\n",
              "      <td>50</td>\n",
              "      <td>4</td>\n",
              "      <td>0</td>\n",
              "      <td>0</td>\n",
              "      <td>2</td>\n",
              "    </tr>\n",
              "    <tr>\n",
              "      <th>18</th>\n",
              "      <td>COPA</td>\n",
              "      <td>550491507</td>\n",
              "      <td>3</td>\n",
              "      <td>1</td>\n",
              "      <td>47</td>\n",
              "      <td>0</td>\n",
              "      <td>0</td>\n",
              "      <td>0</td>\n",
              "      <td>2</td>\n",
              "    </tr>\n",
              "    <tr>\n",
              "      <th>24</th>\n",
              "      <td>Garuda Indonesia</td>\n",
              "      <td>613356665</td>\n",
              "      <td>10</td>\n",
              "      <td>3</td>\n",
              "      <td>260</td>\n",
              "      <td>4</td>\n",
              "      <td>2</td>\n",
              "      <td>22</td>\n",
              "      <td>2</td>\n",
              "    </tr>\n",
              "  </tbody>\n",
              "</table>\n",
              "</div>"
            ],
            "text/plain": [
              "             airline  avail_seat_km_per_week  incidents_85_99  \\\n",
              "1          Aeroflot*              1197672318               76   \n",
              "3        Aeromexico*               596871813                3   \n",
              "9           Alitalia               698012498                7   \n",
              "18              COPA               550491507                3   \n",
              "24  Garuda Indonesia               613356665               10   \n",
              "\n",
              "    fatal_accidents_85_99  fatalities_85_99  incidents_00_14  \\\n",
              "1                      14               128                6   \n",
              "3                       1                64                5   \n",
              "9                       2                50                4   \n",
              "18                      1                47                0   \n",
              "24                      3               260                4   \n",
              "\n",
              "    fatal_accidents_00_14  fatalities_00_14  kümeler  \n",
              "1                       1                88        2  \n",
              "3                       0                 0        2  \n",
              "9                       0                 0        2  \n",
              "18                      0                 0        2  \n",
              "24                      2                22        2  "
            ]
          },
          "metadata": {},
          "output_type": "display_data"
        }
      ],
      "source": [
        "# Verisete küme etiketlerini ekleyelim\n",
        "veri[\"kümeler\"] = kmeans.labels_\n",
        "\n",
        "print(\"#0 numaralı küme (İlk 5 satır)\")\n",
        "display(veri[veri[\"kümeler\"]==0].head(5))\n",
        "\n",
        "print(\"\\n#1 numaralı küme (İlk 5 satır)\")\n",
        "display(veri[veri[\"kümeler\"]==1].head(5))\n",
        "\n",
        "print(\"\\n#2 numaralı küme (İlk 5 satır)\")\n",
        "display(veri[veri[\"kümeler\"]==2].head(5))"
      ]
    },
    {
      "cell_type": "markdown",
      "metadata": {},
      "source": [
        "Sonuçlara göre hangi kümenin \"en iyi\" (en güvenli) havayolu olduğunu istatistiksel olarak veya kendi kriterlerinize göre seçebilirsiniz."
      ]
    },
    {
      "cell_type": "code",
      "execution_count": 23,
      "id": "e20da859",
      "metadata": {},
      "outputs": [
        {
          "name": "stderr",
          "output_type": "stream",
          "text": [
            "/Users/atakanemre/.pyenv/versions/3.11.0/lib/python3.11/site-packages/simpsom/network.py:629: UserWarning: No data for colormapping provided via 'c'. Parameters 'cmap' will be ignored\n",
            "  plt.scatter([pos[0]-0.125+random.random()*0.25 for pos in bmu_list],\n"
          ]
        },
        {
          "data": {
            "text/plain": [
              "<Figure size 640x480 with 0 Axes>"
            ]
          },
          "metadata": {},
          "output_type": "display_data"
        },
        {
          "data": {
            "image/png": "[encoded data removed]",
            "text/plain": [
              "<Figure size 800x600 with 1 Axes>"
            ]
          },
          "metadata": {},
          "output_type": "display_data"
        }
      ],
      "source": [
        "import numpy as np\n",
        "import matplotlib.pyplot as plt\n",
        "\n",
        "# net.project(X.values) -> 2 boyutlu koordinatların listesi \n",
        "map_coords = np.array(net.project(X.values))  \n",
        "labels = kmeans.labels_\n",
        "centers = kmeans.cluster_centers_\n",
        "\n",
        "plt.figure(figsize=(8,6))\n",
        "plt.scatter(\n",
        "    map_coords[:, 0], \n",
        "    map_coords[:, 1], \n",
        "    c=labels, \n",
        "    cmap='viridis'\n",
        ")\n",
        "plt.scatter(\n",
        "    centers[:, 0], \n",
        "    centers[:, 1],\n",
        "    marker='o', \n",
        "    s=200, \n",
        "    c='red', \n",
        "    edgecolor='k', \n",
        "    label='Centers'\n",
        ")\n",
        "plt.xlabel('X')\n",
        "plt.ylabel('Y')\n",
        "plt.title('K-Means Clustering')\n",
        "plt.legend()\n",
        "plt.show()"
      ]
    }
  ],
  "metadata": {
    "kernelspec": {
      "display_name": "Python 3",
      "language": "python",
      "name": "python3"
    },
    "language_info": {
      "codemirror_mode": {
        "name": "ipython",
        "version": 3
      },
      "file_extension": ".py",
      "mimetype": "text/x-python",
      "name": "python",
      "nbconvert_exporter": "python",
      "pygments_lexer": "ipython3",
      "version": "3.11.0"
    }
  },
  "nbformat": 4,
  "nbformat_minor": 5
}
