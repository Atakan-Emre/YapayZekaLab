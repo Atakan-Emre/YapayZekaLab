{
 "cells": [
  {
   "cell_type": "code",
   "execution_count": null,
   "metadata": {},
   "outputs": [],
   "source": [
    "pip install experta"
   ]
  },
  {
   "cell_type": "code",
   "execution_count": 1,
   "metadata": {},
   "outputs": [
    {
     "name": "stdout",
     "output_type": "stream",
     "text": [
      "Seçilen trafik ışığı rengi: yesil\n",
      "Yeşil ışık yandığı için yürüyebilirsiniz.\n"
     ]
    }
   ],
   "source": [
    "from random import choice\n",
    "from experta import *\n",
    "\n",
    "# Trafik ışıkları ile ilgili bilgileri tutacak Fact sınıfı\n",
    "class Isik(Fact):\n",
    "    \"\"\"\n",
    "    Trafik ışıklarıyla ilgili temel bilgiler.\n",
    "    \"\"\"\n",
    "    pass\n",
    "\n",
    "# Kural motorunu tanımladığımız sınıf\n",
    "class KarsidanKarsiyaGecme(KnowledgeEngine):\n",
    "    \n",
    "    @Rule(Isik(renk=\"yesil\"))\n",
    "    def yesil_isik(self):\n",
    "        print(\"Yeşil ışık yandığı için yürüyebilirsiniz.\")\n",
    "    \n",
    "    @Rule(Isik(renk=\"kirmizi\"))\n",
    "    def kirmizi_isik(self):\n",
    "        print(\"Kırmızı ışık yandığı için lütfen bekleyiniz.\")\n",
    "    \n",
    "    @Rule(Isik(renk=\"sari\"))\n",
    "    def sari_isik(self):\n",
    "        print(\"Sarı ışık yanıyor. Lütfen dikkatli olunuz.\")\n",
    "\n",
    "# Uygulama (Test) Kısmı\n",
    "if __name__ == \"__main__\":\n",
    "    # Uzman sistem motorunu oluştur\n",
    "    uzman = KarsidanKarsiyaGecme()\n",
    "    \n",
    "    # Kuralları sıfırla (engine reset)\n",
    "    uzman.reset()\n",
    "    \n",
    "    # Rastgele bir ışık rengi seçip Fact olarak bildir\n",
    "    rastgele_renk = choice([\"yesil\", \"sari\", \"kirmizi\"])\n",
    "    print(\"Seçilen trafik ışığı rengi:\", rastgele_renk)\n",
    "    uzman.declare(Isik(renk=rastgele_renk))\n",
    "    \n",
    "    # Kuralları çalıştır\n",
    "    uzman.run()"
   ]
  }
 ],
 "metadata": {
  "kernelspec": {
   "display_name": "Python 3",
   "language": "python",
   "name": "python3"
  },
  "language_info": {
   "codemirror_mode": {
    "name": "ipython",
    "version": 3
   },
   "file_extension": ".py",
   "mimetype": "text/x-python",
   "name": "python",
   "nbconvert_exporter": "python",
   "pygments_lexer": "ipython3",
   "version": "3.11.0"
  }
 },
 "nbformat": 4,
 "nbformat_minor": 2
}
