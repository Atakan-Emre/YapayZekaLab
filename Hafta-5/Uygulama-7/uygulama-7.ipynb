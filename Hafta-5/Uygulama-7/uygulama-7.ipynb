{
  "cells": [
    {
      "cell_type": "code",
      "execution_count": 1,
      "metadata": {
        "colab": {
          "base_uri": "https://localhost:8080/",
          "height": 1000
        },
        "id": "664wN3haB_bU",
        "outputId": "e7773374-9f27-4243-a863-ed11157620a5"
      },
      "outputs": [
        {
          "name": "stdout",
          "output_type": "stream",
          "text": [
            "Collecting experta\n",
            "  Downloading experta-1.9.4-py3-none-any.whl.metadata (5.0 kB)\n",
            "Collecting frozendict==1.2 (from experta)\n",
            "  Downloading frozendict-1.2.tar.gz (2.6 kB)\n",
            "  Preparing metadata (setup.py) ... \u001b[?25ldone\n",
            "\u001b[?25hCollecting schema==0.6.7 (from experta)\n",
            "  Downloading schema-0.6.7-py2.py3-none-any.whl.metadata (14 kB)\n",
            "Downloading experta-1.9.4-py3-none-any.whl (35 kB)\n",
            "Downloading schema-0.6.7-py2.py3-none-any.whl (14 kB)\n",
            "Building wheels for collected packages: frozendict\n",
            "  Building wheel for frozendict (setup.py) ... \u001b[?25ldone\n",
            "\u001b[?25h  Created wheel for frozendict: filename=frozendict-1.2-py3-none-any.whl size=3149 sha256=6f4bc27a56c7c22359f8df2d0326897c6871ca2af518fbb2f125480e49f7a2b1\n",
            "  Stored in directory: /Users/atakanemre/Library/Caches/pip/wheels/49/ac/f8/cb8120244e710bdb479c86198b03c7b08c3c2d3d2bf448fd6e\n",
            "Successfully built frozendict\n",
            "Installing collected packages: schema, frozendict, experta\n",
            "Successfully installed experta-1.9.4 frozendict-1.2 schema-0.6.7\n",
            "Collecting frozendict==2.0.3\n",
            "  Downloading frozendict-2.0.3-py3-none-any.whl.metadata (17 kB)\n",
            "Downloading frozendict-2.0.3-py3-none-any.whl (8.3 kB)\n",
            "Installing collected packages: frozendict\n",
            "  Attempting uninstall: frozendict\n",
            "    Found existing installation: frozendict 1.2\n",
            "    Uninstalling frozendict-1.2:\n",
            "      Successfully uninstalled frozendict-1.2\n",
            "\u001b[31mERROR: pip's dependency resolver does not currently take into account all the packages that are installed. This behaviour is the source of the following dependency conflicts.\n",
            "experta 1.9.4 requires frozendict==1.2, but you have frozendict 2.0.3 which is incompatible.\u001b[0m\u001b[31m\n",
            "\u001b[0mSuccessfully installed frozendict-2.0.3\n"
          ]
        }
      ],
      "source": [
        "!pip install experta\n",
        "!pip install frozendict==2.0.3"
      ]
    },
    {
      "cell_type": "code",
      "execution_count": 3,
      "metadata": {
        "colab": {
          "base_uri": "https://localhost:8080/"
        },
        "id": "Dy-_x4QHAysU",
        "outputId": "7522d929-689a-40ab-e9da-080397272d92"
      },
      "outputs": [
        {
          "name": "stdout",
          "output_type": "stream",
          "text": [
            "Dişte yiyecek ve içeceklerden kaynaklanan renk değişimi var. Dişleri temizle.\n",
            "Diş fırçalarken diş eti kanaması var. Diş hastalığı olabilir, diş hekimine başvur.\n"
          ]
        }
      ],
      "source": [
        "from random import choice\n",
        "from experta import *\n",
        "\n",
        "class DisDurumu(Fact):\n",
        "    \"\"\"Diş ağrısı ile ilgili belirtiler\"\"\"\n",
        "    pass\n",
        "\n",
        "class DisAgrisinaCozum(KnowledgeEngine):\n",
        "\n",
        "    @Rule(DisDurumu(belirti=\"dis_fircalarken_dis_eti_kanamasi\"))\n",
        "    def dis_eti_kanamasi(self):\n",
        "        print(\"Diş fırçalarken diş eti kanaması var. Diş hastalığı olabilir, diş hekimine başvur.\")\n",
        "\n",
        "    @Rule(DisDurumu(belirti=\"uzun_sureli_dis_eti_kanamasi\"))\n",
        "    def uzun_sureli_kanama(self):\n",
        "        print(\"Uzun süreli diş eti kanaması var. Dişeti çekilmesi olabilir, diş hekimine başvur.\")\n",
        "\n",
        "    @Rule(DisDurumu(belirti=\"dis_eti_cekilmesi_ve_dis_koku_gorunuyor\"))\n",
        "    def dis_eti_cekilmesi(self):\n",
        "        print(\"Diş eti çekilmesi var ve diş kökü görünüyor. Dolgu yaptır.\")\n",
        "\n",
        "    @Rule(DisDurumu(belirti=\"renk_degisimleri\"))\n",
        "    def renk_degisimleri(self):\n",
        "        print(\"Dişte yiyecek ve içeceklerden kaynaklanan renk değişimi var. Dişleri temizle.\")\n",
        "\n",
        "    @Rule(DisDurumu(belirti=\"yeni_dis_cikarken_morarma\"))\n",
        "    def yeni_dis_morarma(self):\n",
        "        print(\"Yeni diş çıkarken morarma var. Diş hekimine başvur.\")\n",
        "\n",
        "    @Rule(DisDurumu(belirti=\"agri_yapmayan_curuk\"))\n",
        "    def agri_yapmayan_curuk(self):\n",
        "        print(\"Dişte ağrı yapmayan çürük var. Dolgu yaptır.\")\n",
        "\n",
        "    @Rule(DisDurumu(belirti=\"ileri_derecede_curuk\"))\n",
        "    def ileri_derecede_curuk(self):\n",
        "        print(\"Dişteki çürük ileri derecede. Kanal tedavisi ve dolgu yaptır.\")\n",
        "\n",
        "uzman = DisAgrisinaCozum()\n",
        "uzman.reset()\n",
        "\n",
        "uzman.declare(DisDurumu(belirti=\"dis_fircalarken_dis_eti_kanamasi\"))\n",
        "uzman.declare(DisDurumu(belirti=\"renk_degisimleri\"))\n",
        "\n",
        "uzman.run()\n"
      ]
    }
  ],
  "metadata": {
    "colab": {
      "provenance": []
    },
    "kernelspec": {
      "display_name": "Python 3",
      "name": "python3"
    },
    "language_info": {
      "codemirror_mode": {
        "name": "ipython",
        "version": 3
      },
      "file_extension": ".py",
      "mimetype": "text/x-python",
      "name": "python",
      "nbconvert_exporter": "python",
      "pygments_lexer": "ipython3",
      "version": "3.11.0"
    }
  },
  "nbformat": 4,
  "nbformat_minor": 0
}
